{
  "nbformat": 4,
  "nbformat_minor": 0,
  "metadata": {
    "accelerator": "GPU",
    "colab": {
      "name": "CNN_networks_on_MNIST_dataset.ipynb",
      "provenance": []
    },
    "kernelspec": {
      "display_name": "Python 3",
      "language": "python",
      "name": "python3"
    },
    "language_info": {
      "codemirror_mode": {
        "name": "ipython",
        "version": 3
      },
      "file_extension": ".py",
      "mimetype": "text/x-python",
      "name": "python",
      "nbconvert_exporter": "python",
      "pygments_lexer": "ipython3",
      "version": "3.7.1"
    }
  },
  "cells": [
    {
      "cell_type": "code",
      "metadata": {
        "colab_type": "code",
        "id": "RbdhMBcUpJzD",
        "outputId": "6b144f62-6413-495c-c81c-79d0d9de0b16",
        "colab": {
          "base_uri": "https://localhost:8080/",
          "height": 101
        }
      },
      "source": [
        "from __future__ import print_function\n",
        "import keras\n",
        "from keras.datasets import mnist\n",
        "from keras.models import Sequential\n",
        "from keras.layers import Dense, Dropout, Flatten, Activation\n",
        "from keras.layers import Conv2D, MaxPooling2D\n",
        "from keras import backend as K\n",
        "import numpy as np\n",
        "import pandas as pd\n",
        "import matplotlib.pyplot as plt\n",
        "import warnings\n",
        "warnings.filterwarnings(\"ignore\")\n",
        "\n",
        "(X_train,y_train),(X_test,y_test)=mnist.load_data()\n",
        "print('X_train shape: ',X_train.shape)\n",
        "print('Y_train shape: ',y_train.shape)\n",
        "print('-'*50)\n",
        "print('X_test shape: ',X_test.shape)\n",
        "print('y_test shape: ',y_test.shape)"
      ],
      "execution_count": 0,
      "outputs": [
        {
          "output_type": "stream",
          "text": [
            "X_train shape:  (60000, 28, 28)\n",
            "Y_train shape:  (60000,)\n",
            "--------------------------------------------------\n",
            "X_test shape:  (10000, 28, 28)\n",
            "y_test shape:  (10000,)\n"
          ],
          "name": "stdout"
        }
      ]
    },
    {
      "cell_type": "code",
      "metadata": {
        "colab_type": "code",
        "id": "JMAm2ACaqc94",
        "outputId": "574abcf4-5f0e-4684-cdeb-fbadd7fd78c6",
        "colab": {
          "base_uri": "https://localhost:8080/",
          "height": 67
        }
      },
      "source": [
        "# input image dimensions\n",
        "img_rows, img_cols = 28, 28\n",
        "if K.image_data_format() == 'channels_first':\n",
        "    X_train = X_train.reshape(X_train.shape[0], 1, img_rows, img_cols)\n",
        "    X_test = X_test.reshape(X_test.shape[0], 1, img_rows, img_cols)\n",
        "    input_shape = (1, img_rows, img_cols)\n",
        "else:\n",
        "    X_train = X_train.reshape(X_train.shape[0], img_rows, img_cols, 1)\n",
        "    X_test = X_test.reshape(X_test.shape[0], img_rows, img_cols, 1)\n",
        "    input_shape = (img_rows, img_cols, 1)\n",
        "\n",
        "X_train = X_train.astype('float32')\n",
        "X_test = X_test.astype('float32')\n",
        "X_train /= 255\n",
        "X_test /= 255\n",
        "print('X_train shape:', X_train.shape)\n",
        "print(X_train.shape[0], 'train samples')\n",
        "print(X_test.shape[0], 'test samples')"
      ],
      "execution_count": 0,
      "outputs": [
        {
          "output_type": "stream",
          "text": [
            "X_train shape: (60000, 28, 28, 1)\n",
            "60000 train samples\n",
            "10000 test samples\n"
          ],
          "name": "stdout"
        }
      ]
    },
    {
      "cell_type": "code",
      "metadata": {
        "colab_type": "code",
        "id": "1lpx_ET6qus7",
        "outputId": "3347e015-7368-4024-8b22-80c44e6992f4",
        "colab": {
          "base_uri": "https://localhost:8080/",
          "height": 34
        }
      },
      "source": [
        "#Some initialization\n",
        "batch_size = 128\n",
        "num_classes = 10\n",
        "epochs = 12\n",
        "# convert class vectors to binary class matrices\n",
        "y_train = keras.utils.to_categorical(y_train, num_classes)\n",
        "y_test = keras.utils.to_categorical(y_test, num_classes)\n",
        "\n",
        "print(y_train[0])"
      ],
      "execution_count": 0,
      "outputs": [
        {
          "output_type": "stream",
          "text": [
            "[0. 0. 0. 0. 0. 1. 0. 0. 0. 0.]\n"
          ],
          "name": "stdout"
        }
      ]
    },
    {
      "cell_type": "markdown",
      "metadata": {
        "colab_type": "text",
        "id": "8ALB4RqZnb4K"
      },
      "source": [
        "# CNN WITH 3 LAYERS CONSIDERING RELU AS A ACTIVATION FUNCTION"
      ]
    },
    {
      "cell_type": "markdown",
      "metadata": {
        "colab_type": "text",
        "id": "AbDKIYoUqb6V"
      },
      "source": [
        "###  USING BN+DROPOUT"
      ]
    },
    {
      "cell_type": "code",
      "metadata": {
        "colab_type": "code",
        "id": "0L4ErwlzqxyD",
        "outputId": "8784d476-b3e8-4421-d466-a46931e57c49",
        "colab": {
          "base_uri": "https://localhost:8080/",
          "height": 554
        }
      },
      "source": [
        "from keras.layers.normalization import BatchNormalization\n",
        "#Conv2d-->Pooling-->Conv2d-->Pooling-->Conv2d-->BN-->Pooling-->FC-->Dropout-->Softmax\n",
        "#We will use Relu as Activation function and Adam as Optimizer\n",
        "#We will also use BatchNormalization and Dropout at suitable places\n",
        "\n",
        "model=Sequential()\n",
        "#Adding first layer\n",
        "model.add(Conv2D(32, kernel_size=(3, 3),activation='relu',input_shape=input_shape))\n",
        "model.add(MaxPooling2D(pool_size=(2, 2)))\n",
        "\n",
        "\n",
        "#Second layer\n",
        "model.add(Conv2D(64, kernel_size=(3, 3), activation='relu'))\n",
        "model.add(MaxPooling2D(pool_size=(2,2)))\n",
        "\n",
        "\n",
        "#third layer\n",
        "model.add(Conv2D(64, kernel_size=(3, 3), activation='relu'))\n",
        "model.add(BatchNormalization(axis=1))\n",
        "model.add(MaxPooling2D(pool_size=(2,2)))\n",
        "\n",
        "\n",
        "#Fully Connected layer\n",
        "#Flattening\n",
        "model.add(Flatten())\n",
        "model.add(Dense(512))\n",
        "model.add(Activation('relu'))\n",
        "model.add(Dropout(0.5))\n",
        "\n",
        "#Softmax\n",
        "model.add(Dense(num_classes, activation='softmax'))\n",
        "model.summary()"
      ],
      "execution_count": 0,
      "outputs": [
        {
          "output_type": "stream",
          "text": [
            "Model: \"sequential_7\"\n",
            "_________________________________________________________________\n",
            "Layer (type)                 Output Shape              Param #   \n",
            "=================================================================\n",
            "conv2d_19 (Conv2D)           (None, 26, 26, 32)        320       \n",
            "_________________________________________________________________\n",
            "max_pooling2d_19 (MaxPooling (None, 13, 13, 32)        0         \n",
            "_________________________________________________________________\n",
            "conv2d_20 (Conv2D)           (None, 11, 11, 64)        18496     \n",
            "_________________________________________________________________\n",
            "max_pooling2d_20 (MaxPooling (None, 5, 5, 64)          0         \n",
            "_________________________________________________________________\n",
            "conv2d_21 (Conv2D)           (None, 3, 3, 64)          36928     \n",
            "_________________________________________________________________\n",
            "batch_normalization_4 (Batch (None, 3, 3, 64)          12        \n",
            "_________________________________________________________________\n",
            "max_pooling2d_21 (MaxPooling (None, 1, 1, 64)          0         \n",
            "_________________________________________________________________\n",
            "flatten_7 (Flatten)          (None, 64)                0         \n",
            "_________________________________________________________________\n",
            "dense_13 (Dense)             (None, 512)               33280     \n",
            "_________________________________________________________________\n",
            "activation_7 (Activation)    (None, 512)               0         \n",
            "_________________________________________________________________\n",
            "dropout_6 (Dropout)          (None, 512)               0         \n",
            "_________________________________________________________________\n",
            "dense_14 (Dense)             (None, 10)                5130      \n",
            "=================================================================\n",
            "Total params: 94,166\n",
            "Trainable params: 94,160\n",
            "Non-trainable params: 6\n",
            "_________________________________________________________________\n"
          ],
          "name": "stdout"
        }
      ]
    },
    {
      "cell_type": "code",
      "metadata": {
        "colab_type": "code",
        "id": "Vwrsj26Y4kKT",
        "outputId": "b2109d26-7acb-4f32-da57-07d61cdd7f48",
        "colab": {
          "base_uri": "https://localhost:8080/",
          "height": 457
        }
      },
      "source": [
        "#Compiling with Cross-entropy-loss and Adam Optimizer taking Accuracy as a metric\n",
        "from keras.optimizers import Adam\n",
        "model.compile(loss='categorical_crossentropy', optimizer=Adam(), metrics=['accuracy'])\n",
        "history=model.fit(X_train, y_train,batch_size=batch_size,epochs=epochs,verbose=1,validation_data=(X_test, y_test))"
      ],
      "execution_count": 0,
      "outputs": [
        {
          "output_type": "stream",
          "text": [
            "Train on 60000 samples, validate on 10000 samples\n",
            "Epoch 1/12\n",
            "60000/60000 [==============================] - 5s 77us/step - loss: 0.2481 - acc: 0.9224 - val_loss: 0.0739 - val_acc: 0.9775\n",
            "Epoch 2/12\n",
            "60000/60000 [==============================] - 3s 56us/step - loss: 0.0740 - acc: 0.9768 - val_loss: 0.0527 - val_acc: 0.9833\n",
            "Epoch 3/12\n",
            "60000/60000 [==============================] - 3s 56us/step - loss: 0.0519 - acc: 0.9836 - val_loss: 0.0571 - val_acc: 0.9843\n",
            "Epoch 4/12\n",
            "60000/60000 [==============================] - 3s 56us/step - loss: 0.0409 - acc: 0.9866 - val_loss: 0.0571 - val_acc: 0.9830\n",
            "Epoch 5/12\n",
            "60000/60000 [==============================] - 3s 56us/step - loss: 0.0331 - acc: 0.9896 - val_loss: 0.0468 - val_acc: 0.9872\n",
            "Epoch 6/12\n",
            "60000/60000 [==============================] - 3s 57us/step - loss: 0.0305 - acc: 0.9901 - val_loss: 0.0459 - val_acc: 0.9868\n",
            "Epoch 7/12\n",
            "60000/60000 [==============================] - 3s 55us/step - loss: 0.0244 - acc: 0.9922 - val_loss: 0.0521 - val_acc: 0.9854\n",
            "Epoch 8/12\n",
            "60000/60000 [==============================] - 3s 55us/step - loss: 0.0215 - acc: 0.9932 - val_loss: 0.0417 - val_acc: 0.9888\n",
            "Epoch 9/12\n",
            "60000/60000 [==============================] - 3s 55us/step - loss: 0.0195 - acc: 0.9937 - val_loss: 0.0384 - val_acc: 0.9905\n",
            "Epoch 10/12\n",
            "60000/60000 [==============================] - 3s 56us/step - loss: 0.0149 - acc: 0.9952 - val_loss: 0.0565 - val_acc: 0.9851\n",
            "Epoch 11/12\n",
            "60000/60000 [==============================] - 3s 57us/step - loss: 0.0150 - acc: 0.9950 - val_loss: 0.0554 - val_acc: 0.9880\n",
            "Epoch 12/12\n",
            "60000/60000 [==============================] - 4s 59us/step - loss: 0.0136 - acc: 0.9954 - val_loss: 0.0668 - val_acc: 0.9860\n"
          ],
          "name": "stdout"
        }
      ]
    },
    {
      "cell_type": "code",
      "metadata": {
        "colab_type": "code",
        "id": "BCsiP5N45uYx",
        "colab": {}
      },
      "source": [
        "import matplotlib.pyplot as plt\n",
        "import numpy as np\n",
        "\n",
        "def plt_dynamic(x, vy, ty, ax, colors=['b']):\n",
        "    ax.plot(x, vy, 'b', label=\"Validation Loss\")\n",
        "    ax.plot(x, ty, 'r', label=\"Train Loss\")\n",
        "    plt.legend()\n",
        "    plt.grid()\n",
        "    fig.canvas.draw()"
      ],
      "execution_count": 0,
      "outputs": []
    },
    {
      "cell_type": "code",
      "metadata": {
        "colab_type": "code",
        "id": "HvR0U5okA0TT",
        "outputId": "eec7a323-7695-4972-d7ec-5a44faa106d0",
        "colab": {
          "base_uri": "https://localhost:8080/",
          "height": 329
        }
      },
      "source": [
        "score = model.evaluate(X_test, y_test, verbose=0) \n",
        "print('Test score:', score[0]) \n",
        "print('Test accuracy:', score[1])\n",
        "\n",
        "fig,ax = plt.subplots(1,1)\n",
        "ax.set_title('Epoch vs Loss')\n",
        "ax.set_xlabel('epoch') ; ax.set_ylabel('Categorical Crossentropy Loss')\n",
        "\n",
        "# list of epoch numbers\n",
        "x = list(range(1,epochs+1))\n",
        "\n",
        "\n",
        "vy = history.history['val_loss']\n",
        "ty = history.history['loss']\n",
        "plt_dynamic(x, vy, ty, ax)\n",
        "\n",
        "\n",
        "\n",
        "\n"
      ],
      "execution_count": 0,
      "outputs": [
        {
          "output_type": "stream",
          "text": [
            "Test score: 0.06679211560489139\n",
            "Test accuracy: 0.986\n"
          ],
          "name": "stdout"
        },
        {
          "output_type": "display_data",
          "data": {
            "image/png": "[encoded data removed]",
            "text/plain": [
              "<Figure size 432x288 with 1 Axes>"
            ]
          },
          "metadata": {
            "tags": []
          }
        }
      ]
    },
    {
      "cell_type": "markdown",
      "metadata": {
        "colab_type": "text",
        "id": "OhgkmR8bqb6c"
      },
      "source": [
        "### WITHOUT BN"
      ]
    },
    {
      "cell_type": "code",
      "metadata": {
        "colab_type": "code",
        "id": "WiUudpgTqb6d",
        "outputId": "dfe2b162-243b-4418-afb9-cd7f37461e57",
        "colab": {
          "base_uri": "https://localhost:8080/",
          "height": 521
        }
      },
      "source": [
        "#Conv2d-->Pooling-->Conv2d-->Pooling-->Conv2d---->Pooling-->FC-->Dropout-->Softmax\n",
        "#We will use Relu as Activation function and Adam as Optimizer\n",
        "\n",
        "model=Sequential()\n",
        "#Adding first layer\n",
        "model.add(Conv2D(32, kernel_size=(3, 3),activation='relu',input_shape=input_shape))\n",
        "model.add(MaxPooling2D(pool_size=(2, 2)))\n",
        "\n",
        "\n",
        "#Second layer\n",
        "model.add(Conv2D(64, kernel_size=(3, 3), activation='relu'))\n",
        "model.add(MaxPooling2D(pool_size=(2,2)))\n",
        "\n",
        "\n",
        "#third layer\n",
        "model.add(Conv2D(64, kernel_size=(3, 3), activation='relu'))\n",
        "model.add(MaxPooling2D(pool_size=(2,2)))\n",
        "\n",
        "\n",
        "#Fully Connected layer\n",
        "#Flattening\n",
        "model.add(Flatten())\n",
        "model.add(Dense(512))\n",
        "model.add(Activation('relu'))\n",
        "model.add(Dropout(0.5))\n",
        "\n",
        "#Softmax\n",
        "model.add(Dense(num_classes, activation='softmax'))\n",
        "model.summary()"
      ],
      "execution_count": 0,
      "outputs": [
        {
          "output_type": "stream",
          "text": [
            "Model: \"sequential_8\"\n",
            "_________________________________________________________________\n",
            "Layer (type)                 Output Shape              Param #   \n",
            "=================================================================\n",
            "conv2d_22 (Conv2D)           (None, 26, 26, 32)        320       \n",
            "_________________________________________________________________\n",
            "max_pooling2d_22 (MaxPooling (None, 13, 13, 32)        0         \n",
            "_________________________________________________________________\n",
            "conv2d_23 (Conv2D)           (None, 11, 11, 64)        18496     \n",
            "_________________________________________________________________\n",
            "max_pooling2d_23 (MaxPooling (None, 5, 5, 64)          0         \n",
            "_________________________________________________________________\n",
            "conv2d_24 (Conv2D)           (None, 3, 3, 64)          36928     \n",
            "_________________________________________________________________\n",
            "max_pooling2d_24 (MaxPooling (None, 1, 1, 64)          0         \n",
            "_________________________________________________________________\n",
            "flatten_8 (Flatten)          (None, 64)                0         \n",
            "_________________________________________________________________\n",
            "dense_15 (Dense)             (None, 512)               33280     \n",
            "_________________________________________________________________\n",
            "activation_8 (Activation)    (None, 512)               0         \n",
            "_________________________________________________________________\n",
            "dropout_7 (Dropout)          (None, 512)               0         \n",
            "_________________________________________________________________\n",
            "dense_16 (Dense)             (None, 10)                5130      \n",
            "=================================================================\n",
            "Total params: 94,154\n",
            "Trainable params: 94,154\n",
            "Non-trainable params: 0\n",
            "_________________________________________________________________\n"
          ],
          "name": "stdout"
        }
      ]
    },
    {
      "cell_type": "code",
      "metadata": {
        "colab_type": "code",
        "id": "eltWlRchqb6e",
        "outputId": "d7ceef84-5fd4-45ad-d57a-dc036fb5cd9e",
        "colab": {
          "base_uri": "https://localhost:8080/",
          "height": 457
        }
      },
      "source": [
        "#Compiling with Cross-entropy-loss and Adam Optimizer taking Accuracy as a metric\n",
        "from keras.optimizers import Adam\n",
        "model.compile(loss='categorical_crossentropy', optimizer=Adam(), metrics=['accuracy'])\n",
        "history=model.fit(X_train, y_train,batch_size=batch_size,epochs=epochs,verbose=1,validation_data=(X_test, y_test))"
      ],
      "execution_count": 0,
      "outputs": [
        {
          "output_type": "stream",
          "text": [
            "Train on 60000 samples, validate on 10000 samples\n",
            "Epoch 1/12\n",
            "60000/60000 [==============================] - 4s 71us/step - loss: 0.3654 - acc: 0.8838 - val_loss: 0.1055 - val_acc: 0.9682\n",
            "Epoch 2/12\n",
            "60000/60000 [==============================] - 3s 51us/step - loss: 0.1023 - acc: 0.9691 - val_loss: 0.0695 - val_acc: 0.9804\n",
            "Epoch 3/12\n",
            "60000/60000 [==============================] - 3s 51us/step - loss: 0.0728 - acc: 0.9786 - val_loss: 0.0539 - val_acc: 0.9841\n",
            "Epoch 4/12\n",
            "60000/60000 [==============================] - 3s 56us/step - loss: 0.0581 - acc: 0.9823 - val_loss: 0.0513 - val_acc: 0.9842\n",
            "Epoch 5/12\n",
            "60000/60000 [==============================] - 3s 54us/step - loss: 0.0471 - acc: 0.9852 - val_loss: 0.0430 - val_acc: 0.9871\n",
            "Epoch 6/12\n",
            "60000/60000 [==============================] - 3s 52us/step - loss: 0.0409 - acc: 0.9869 - val_loss: 0.0480 - val_acc: 0.9865\n",
            "Epoch 7/12\n",
            "60000/60000 [==============================] - 3s 52us/step - loss: 0.0370 - acc: 0.9886 - val_loss: 0.0459 - val_acc: 0.9858\n",
            "Epoch 8/12\n",
            "60000/60000 [==============================] - 3s 51us/step - loss: 0.0321 - acc: 0.9894 - val_loss: 0.0445 - val_acc: 0.9875\n",
            "Epoch 9/12\n",
            "60000/60000 [==============================] - 3s 51us/step - loss: 0.0279 - acc: 0.9911 - val_loss: 0.0445 - val_acc: 0.9889\n",
            "Epoch 10/12\n",
            "60000/60000 [==============================] - 3s 51us/step - loss: 0.0256 - acc: 0.9918 - val_loss: 0.0486 - val_acc: 0.9872\n",
            "Epoch 11/12\n",
            "60000/60000 [==============================] - 3s 50us/step - loss: 0.0225 - acc: 0.9927 - val_loss: 0.0448 - val_acc: 0.9877\n",
            "Epoch 12/12\n",
            "60000/60000 [==============================] - 3s 50us/step - loss: 0.0186 - acc: 0.9938 - val_loss: 0.0575 - val_acc: 0.9847\n"
          ],
          "name": "stdout"
        }
      ]
    },
    {
      "cell_type": "code",
      "metadata": {
        "colab_type": "code",
        "id": "8ieMqNaaqb6g",
        "colab": {}
      },
      "source": [
        "import matplotlib.pyplot as plt\n",
        "import numpy as np\n",
        "\n",
        "def plt_dynamic(x, vy, ty, ax, colors=['b']):\n",
        "    ax.plot(x, vy, 'b', label=\"Validation Loss\")\n",
        "    ax.plot(x, ty, 'r', label=\"Train Loss\")\n",
        "    plt.legend()\n",
        "    plt.grid()\n",
        "    fig.canvas.draw()"
      ],
      "execution_count": 0,
      "outputs": []
    },
    {
      "cell_type": "code",
      "metadata": {
        "colab_type": "code",
        "id": "kCVoWKkYqb6h",
        "outputId": "51d1ccf9-dcc4-4d26-dd70-ccc0648031f9",
        "colab": {
          "base_uri": "https://localhost:8080/",
          "height": 329
        }
      },
      "source": [
        "score = model.evaluate(X_test, y_test, verbose=0) \n",
        "print('Test score:', score[0]) \n",
        "print('Test accuracy:', score[1])\n",
        "\n",
        "fig,ax = plt.subplots(1,1)\n",
        "ax.set_title('Epoch vs Loss')\n",
        "ax.set_xlabel('epoch') ; ax.set_ylabel('Categorical Crossentropy Loss')\n",
        "\n",
        "# list of epoch numbers\n",
        "x = list(range(1,epochs+1))\n",
        "\n",
        "\n",
        "vy = history.history['val_loss']\n",
        "ty = history.history['loss']\n",
        "plt_dynamic(x, vy, ty, ax)\n",
        "\n",
        "\n"
      ],
      "execution_count": 0,
      "outputs": [
        {
          "output_type": "stream",
          "text": [
            "Test score: 0.05752517269679956\n",
            "Test accuracy: 0.9847\n"
          ],
          "name": "stdout"
        },
        {
          "output_type": "display_data",
          "data": {
            "image/png": "[encoded data removed]",
            "text/plain": [
              "<Figure size 432x288 with 1 Axes>"
            ]
          },
          "metadata": {
            "tags": []
          }
        }
      ]
    },
    {
      "cell_type": "markdown",
      "metadata": {
        "colab_type": "text",
        "id": "Q39KS57eqb6j"
      },
      "source": [
        "\n",
        "### WITHOUT DROPOUT "
      ]
    },
    {
      "cell_type": "code",
      "metadata": {
        "colab_type": "code",
        "id": "Y3C_IPuzqb6j",
        "outputId": "2e3f9c97-80fc-406f-8f5c-44dd24341123",
        "colab": {
          "base_uri": "https://localhost:8080/",
          "height": 521
        }
      },
      "source": [
        "from keras.layers.normalization import BatchNormalization\n",
        "#Conv2d-->Pooling-->Conv2d-->Pooling-->Conv2d-->BN-->Pooling-->FC--->Softmax\n",
        "#We will use Relu as Activation function and Adam as Optimizer\n",
        "#We will also use BatchNormalization and Dropout at suitable places\n",
        "\n",
        "model=Sequential()\n",
        "#Adding first layer\n",
        "model.add(Conv2D(32, kernel_size=(3, 3),activation='relu',input_shape=input_shape))\n",
        "model.add(MaxPooling2D(pool_size=(2, 2)))\n",
        "\n",
        "\n",
        "#Second layer\n",
        "model.add(Conv2D(64, kernel_size=(3, 3), activation='relu'))\n",
        "model.add(MaxPooling2D(pool_size=(2,2)))\n",
        "\n",
        "\n",
        "#third layer\n",
        "model.add(Conv2D(64, kernel_size=(3, 3), activation='relu'))\n",
        "model.add(BatchNormalization(axis=1))\n",
        "model.add(MaxPooling2D(pool_size=(2,2)))\n",
        "\n",
        "\n",
        "#Fully Connected layer\n",
        "#Flattening\n",
        "model.add(Flatten())\n",
        "model.add(Dense(512))\n",
        "model.add(Activation('relu'))\n",
        "\n",
        "#Softmax\n",
        "model.add(Dense(num_classes, activation='softmax'))\n",
        "model.summary()"
      ],
      "execution_count": 0,
      "outputs": [
        {
          "output_type": "stream",
          "text": [
            "Model: \"sequential_9\"\n",
            "_________________________________________________________________\n",
            "Layer (type)                 Output Shape              Param #   \n",
            "=================================================================\n",
            "conv2d_25 (Conv2D)           (None, 26, 26, 32)        320       \n",
            "_________________________________________________________________\n",
            "max_pooling2d_25 (MaxPooling (None, 13, 13, 32)        0         \n",
            "_________________________________________________________________\n",
            "conv2d_26 (Conv2D)           (None, 11, 11, 64)        18496     \n",
            "_________________________________________________________________\n",
            "max_pooling2d_26 (MaxPooling (None, 5, 5, 64)          0         \n",
            "_________________________________________________________________\n",
            "conv2d_27 (Conv2D)           (None, 3, 3, 64)          36928     \n",
            "_________________________________________________________________\n",
            "batch_normalization_5 (Batch (None, 3, 3, 64)          12        \n",
            "_________________________________________________________________\n",
            "max_pooling2d_27 (MaxPooling (None, 1, 1, 64)          0         \n",
            "_________________________________________________________________\n",
            "flatten_9 (Flatten)          (None, 64)                0         \n",
            "_________________________________________________________________\n",
            "dense_17 (Dense)             (None, 512)               33280     \n",
            "_________________________________________________________________\n",
            "activation_9 (Activation)    (None, 512)               0         \n",
            "_________________________________________________________________\n",
            "dense_18 (Dense)             (None, 10)                5130      \n",
            "=================================================================\n",
            "Total params: 94,166\n",
            "Trainable params: 94,160\n",
            "Non-trainable params: 6\n",
            "_________________________________________________________________\n"
          ],
          "name": "stdout"
        }
      ]
    },
    {
      "cell_type": "code",
      "metadata": {
        "colab_type": "code",
        "id": "F3-Rk2gXqb6l",
        "outputId": "12595aa4-2a34-42fd-ab9c-c7dd42407476",
        "colab": {
          "base_uri": "https://localhost:8080/",
          "height": 457
        }
      },
      "source": [
        "#Compiling with Cross-entropy-loss and Adam Optimizer taking Accuracy as a metric\n",
        "from keras.optimizers import Adam\n",
        "model.compile(loss='categorical_crossentropy', optimizer=Adam(), metrics=['accuracy'])\n",
        "history=model.fit(X_train, y_train,batch_size=batch_size,epochs=epochs,verbose=1,validation_data=(X_test, y_test))"
      ],
      "execution_count": 0,
      "outputs": [
        {
          "output_type": "stream",
          "text": [
            "Train on 60000 samples, validate on 10000 samples\n",
            "Epoch 1/12\n",
            "60000/60000 [==============================] - 5s 80us/step - loss: 0.1998 - acc: 0.9387 - val_loss: 0.0811 - val_acc: 0.9746\n",
            "Epoch 2/12\n",
            "60000/60000 [==============================] - 3s 55us/step - loss: 0.0646 - acc: 0.9798 - val_loss: 0.0665 - val_acc: 0.9787\n",
            "Epoch 3/12\n",
            "60000/60000 [==============================] - 3s 55us/step - loss: 0.0457 - acc: 0.9857 - val_loss: 0.0521 - val_acc: 0.9850\n",
            "Epoch 4/12\n",
            "60000/60000 [==============================] - 3s 55us/step - loss: 0.0348 - acc: 0.9890 - val_loss: 0.0514 - val_acc: 0.9851\n",
            "Epoch 5/12\n",
            "60000/60000 [==============================] - 3s 55us/step - loss: 0.0272 - acc: 0.9909 - val_loss: 0.0525 - val_acc: 0.9845\n",
            "Epoch 6/12\n",
            "60000/60000 [==============================] - 3s 55us/step - loss: 0.0234 - acc: 0.9923 - val_loss: 0.0541 - val_acc: 0.9857\n",
            "Epoch 7/12\n",
            "60000/60000 [==============================] - 3s 57us/step - loss: 0.0189 - acc: 0.9940 - val_loss: 0.0494 - val_acc: 0.9871\n",
            "Epoch 8/12\n",
            "60000/60000 [==============================] - 3s 56us/step - loss: 0.0143 - acc: 0.9955 - val_loss: 0.0582 - val_acc: 0.9848\n",
            "Epoch 9/12\n",
            "60000/60000 [==============================] - 3s 56us/step - loss: 0.0156 - acc: 0.9949 - val_loss: 0.0567 - val_acc: 0.9855\n",
            "Epoch 10/12\n",
            "60000/60000 [==============================] - 3s 56us/step - loss: 0.0125 - acc: 0.9959 - val_loss: 0.0535 - val_acc: 0.9874\n",
            "Epoch 11/12\n",
            "60000/60000 [==============================] - 3s 56us/step - loss: 0.0126 - acc: 0.9958 - val_loss: 0.0551 - val_acc: 0.9863\n",
            "Epoch 12/12\n",
            "60000/60000 [==============================] - 3s 55us/step - loss: 0.0079 - acc: 0.9973 - val_loss: 0.0614 - val_acc: 0.9848\n"
          ],
          "name": "stdout"
        }
      ]
    },
    {
      "cell_type": "code",
      "metadata": {
        "colab_type": "code",
        "id": "076Soc3Hqb6m",
        "colab": {}
      },
      "source": [
        "import matplotlib.pyplot as plt\n",
        "import numpy as np\n",
        "\n",
        "def plt_dynamic(x, vy, ty, ax, colors=['b']):\n",
        "    ax.plot(x, vy, 'b', label=\"Validation Loss\")\n",
        "    ax.plot(x, ty, 'r', label=\"Train Loss\")\n",
        "    plt.legend()\n",
        "    plt.grid()\n",
        "    fig.canvas.draw()\n",
        "    \n",
        "    "
      ],
      "execution_count": 0,
      "outputs": []
    },
    {
      "cell_type": "code",
      "metadata": {
        "colab_type": "code",
        "id": "oGARQ8OQqb6o",
        "outputId": "2dc5690d-b4d8-48d4-903e-3c0d2c86d3b8",
        "colab": {
          "base_uri": "https://localhost:8080/",
          "height": 329
        }
      },
      "source": [
        "score = model.evaluate(X_test, y_test, verbose=0) \n",
        "print('Test score:', score[0]) \n",
        "print('Test accuracy:', score[1])\n",
        "\n",
        "fig,ax = plt.subplots(1,1)\n",
        "ax.set_title('Epoch vs Loss')\n",
        "ax.set_xlabel('epoch') ; ax.set_ylabel('Categorical Crossentropy Loss')\n",
        "\n",
        "# list of epoch numbers\n",
        "x = list(range(1,epochs+1))\n",
        "\n",
        "\n",
        "vy = history.history['val_loss']\n",
        "ty = history.history['loss']\n",
        "plt_dynamic(x, vy, ty, ax)\n",
        "\n",
        "\n"
      ],
      "execution_count": 0,
      "outputs": [
        {
          "output_type": "stream",
          "text": [
            "Test score: 0.06143429972460553\n",
            "Test accuracy: 0.9848\n"
          ],
          "name": "stdout"
        },
        {
          "output_type": "display_data",
          "data": {
            "image/png": "[encoded data removed]",
            "text/plain": [
              "<Figure size 432x288 with 1 Axes>"
            ]
          },
          "metadata": {
            "tags": []
          }
        }
      ]
    },
    {
      "cell_type": "markdown",
      "metadata": {
        "colab_type": "text",
        "id": "8vfRX1Fyqb6q"
      },
      "source": [
        "# CNN WITH 3 LAYERS CONSIDERING SIGMOID AS A ACTIVATION FUNCTION"
      ]
    },
    {
      "cell_type": "markdown",
      "metadata": {
        "colab_type": "text",
        "id": "yrkAMJGkqb6q"
      },
      "source": [
        "### USING BN + DROPOUT"
      ]
    },
    {
      "cell_type": "code",
      "metadata": {
        "colab_type": "code",
        "id": "Yd_gJOllqb6r",
        "outputId": "781fe1ee-106c-4c00-9aaa-b3f0a8e8bf10",
        "colab": {
          "base_uri": "https://localhost:8080/",
          "height": 554
        }
      },
      "source": [
        "from keras.layers.normalization import BatchNormalization\n",
        "#Conv2d-->Pooling-->Conv2d-->Pooling-->Conv2d-->BN-->Pooling-->FC-->Dropout-->Softmax\n",
        "#We will use sigmoid as Activation function and Adam as Optimizer\n",
        "#We will also use BatchNormalization and Dropout at suitable places\n",
        "\n",
        "model=Sequential()\n",
        "#Adding first layer\n",
        "model.add(Conv2D(32, kernel_size=(3, 3),activation='sigmoid',input_shape=input_shape))\n",
        "model.add(MaxPooling2D(pool_size=(2, 2)))\n",
        "\n",
        "\n",
        "#Second layer\n",
        "model.add(Conv2D(64, kernel_size=(3, 3), activation='sigmoid'))\n",
        "model.add(MaxPooling2D(pool_size=(2,2)))\n",
        "\n",
        "\n",
        "#third layer\n",
        "model.add(Conv2D(64, kernel_size=(3, 3), activation='sigmoid'))\n",
        "model.add(BatchNormalization(axis=1))\n",
        "model.add(MaxPooling2D(pool_size=(2,2)))\n",
        "\n",
        "\n",
        "#Fully Connected layer\n",
        "#Flattening\n",
        "model.add(Flatten())\n",
        "model.add(Dense(512))\n",
        "model.add(Activation('sigmoid'))\n",
        "model.add(Dropout(0.5))\n",
        "\n",
        "#Softmax\n",
        "model.add(Dense(num_classes, activation='softmax'))\n",
        "model.summary()"
      ],
      "execution_count": 0,
      "outputs": [
        {
          "output_type": "stream",
          "text": [
            "Model: \"sequential_10\"\n",
            "_________________________________________________________________\n",
            "Layer (type)                 Output Shape              Param #   \n",
            "=================================================================\n",
            "conv2d_28 (Conv2D)           (None, 26, 26, 32)        320       \n",
            "_________________________________________________________________\n",
            "max_pooling2d_28 (MaxPooling (None, 13, 13, 32)        0         \n",
            "_________________________________________________________________\n",
            "conv2d_29 (Conv2D)           (None, 11, 11, 64)        18496     \n",
            "_________________________________________________________________\n",
            "max_pooling2d_29 (MaxPooling (None, 5, 5, 64)          0         \n",
            "_________________________________________________________________\n",
            "conv2d_30 (Conv2D)           (None, 3, 3, 64)          36928     \n",
            "_________________________________________________________________\n",
            "batch_normalization_6 (Batch (None, 3, 3, 64)          12        \n",
            "_________________________________________________________________\n",
            "max_pooling2d_30 (MaxPooling (None, 1, 1, 64)          0         \n",
            "_________________________________________________________________\n",
            "flatten_10 (Flatten)         (None, 64)                0         \n",
            "_________________________________________________________________\n",
            "dense_19 (Dense)             (None, 512)               33280     \n",
            "_________________________________________________________________\n",
            "activation_10 (Activation)   (None, 512)               0         \n",
            "_________________________________________________________________\n",
            "dropout_8 (Dropout)          (None, 512)               0         \n",
            "_________________________________________________________________\n",
            "dense_20 (Dense)             (None, 10)                5130      \n",
            "=================================================================\n",
            "Total params: 94,166\n",
            "Trainable params: 94,160\n",
            "Non-trainable params: 6\n",
            "_________________________________________________________________\n"
          ],
          "name": "stdout"
        }
      ]
    },
    {
      "cell_type": "code",
      "metadata": {
        "colab_type": "code",
        "id": "2CBeVbulqb6s",
        "outputId": "2470e262-dc29-4096-b3f1-9bf9703f655b",
        "colab": {
          "base_uri": "https://localhost:8080/",
          "height": 457
        }
      },
      "source": [
        "#Compiling with Cross-entropy-loss and Adam Optimizer taking Accuracy as a metric\n",
        "from keras.optimizers import Adam\n",
        "model.compile(loss='categorical_crossentropy', optimizer=Adam(), metrics=['accuracy'])\n",
        "history=model.fit(X_train, y_train,batch_size=batch_size,epochs=epochs,verbose=1,validation_data=(X_test, y_test))"
      ],
      "execution_count": 0,
      "outputs": [
        {
          "output_type": "stream",
          "text": [
            "Train on 60000 samples, validate on 10000 samples\n",
            "Epoch 1/12\n",
            "60000/60000 [==============================] - 5s 79us/step - loss: 1.8599 - acc: 0.3115 - val_loss: 0.5820 - val_acc: 0.8273\n",
            "Epoch 2/12\n",
            "60000/60000 [==============================] - 3s 55us/step - loss: 0.2218 - acc: 0.9327 - val_loss: 0.1321 - val_acc: 0.9566\n",
            "Epoch 3/12\n",
            "60000/60000 [==============================] - 3s 55us/step - loss: 0.1352 - acc: 0.9585 - val_loss: 0.0884 - val_acc: 0.9733\n",
            "Epoch 4/12\n",
            "60000/60000 [==============================] - 3s 56us/step - loss: 0.1052 - acc: 0.9678 - val_loss: 0.0868 - val_acc: 0.9735\n",
            "Epoch 5/12\n",
            "60000/60000 [==============================] - 3s 55us/step - loss: 0.0871 - acc: 0.9729 - val_loss: 0.0884 - val_acc: 0.9718\n",
            "Epoch 6/12\n",
            "60000/60000 [==============================] - 3s 55us/step - loss: 0.0768 - acc: 0.9762 - val_loss: 0.0776 - val_acc: 0.9758\n",
            "Epoch 7/12\n",
            "60000/60000 [==============================] - 3s 56us/step - loss: 0.0662 - acc: 0.9795 - val_loss: 0.0688 - val_acc: 0.9789\n",
            "Epoch 8/12\n",
            "60000/60000 [==============================] - 3s 55us/step - loss: 0.0605 - acc: 0.9814 - val_loss: 0.0679 - val_acc: 0.9797\n",
            "Epoch 9/12\n",
            "60000/60000 [==============================] - 3s 55us/step - loss: 0.0552 - acc: 0.9826 - val_loss: 0.0605 - val_acc: 0.9827\n",
            "Epoch 10/12\n",
            "60000/60000 [==============================] - 3s 55us/step - loss: 0.0487 - acc: 0.9845 - val_loss: 0.0559 - val_acc: 0.9832\n",
            "Epoch 11/12\n",
            "60000/60000 [==============================] - 3s 56us/step - loss: 0.0428 - acc: 0.9865 - val_loss: 0.0621 - val_acc: 0.9817\n",
            "Epoch 12/12\n",
            "60000/60000 [==============================] - 3s 55us/step - loss: 0.0413 - acc: 0.9869 - val_loss: 0.0511 - val_acc: 0.9853\n"
          ],
          "name": "stdout"
        }
      ]
    },
    {
      "cell_type": "code",
      "metadata": {
        "colab_type": "code",
        "id": "XurgzZZHqb6u",
        "colab": {}
      },
      "source": [
        "import matplotlib.pyplot as plt\n",
        "import numpy as np\n",
        "\n",
        "def plt_dynamic(x, vy, ty, ax, colors=['b']):\n",
        "    ax.plot(x, vy, 'b', label=\"Validation Loss\")\n",
        "    ax.plot(x, ty, 'r', label=\"Train Loss\")\n",
        "    plt.legend()\n",
        "    plt.grid()\n",
        "    fig.canvas.draw()"
      ],
      "execution_count": 0,
      "outputs": []
    },
    {
      "cell_type": "code",
      "metadata": {
        "colab_type": "code",
        "id": "22Xn2e0_qb6w",
        "outputId": "4e36bc5d-4071-4342-c035-5972772c4d4e",
        "colab": {
          "base_uri": "https://localhost:8080/",
          "height": 329
        }
      },
      "source": [
        "score = model.evaluate(X_test, y_test, verbose=0) \n",
        "print('Test score:', score[0]) \n",
        "print('Test accuracy:', score[1])\n",
        "\n",
        "fig,ax = plt.subplots(1,1)\n",
        "ax.set_title('Epoch vs Loss')\n",
        "ax.set_xlabel('epoch') ; ax.set_ylabel('Categorical Crossentropy Loss')\n",
        "\n",
        "# list of epoch numbers\n",
        "x = list(range(1,epochs+1))\n",
        "\n",
        "\n",
        "vy = history.history['val_loss']\n",
        "ty = history.history['loss']\n",
        "plt_dynamic(x, vy, ty, ax)\n",
        "\n",
        "\n",
        "\n",
        "\n"
      ],
      "execution_count": 0,
      "outputs": [
        {
          "output_type": "stream",
          "text": [
            "Test score: 0.051126524720713495\n",
            "Test accuracy: 0.9853\n"
          ],
          "name": "stdout"
        },
        {
          "output_type": "display_data",
          "data": {
            "image/png": "[encoded data removed]",
            "text/plain": [
              "<Figure size 432x288 with 1 Axes>"
            ]
          },
          "metadata": {
            "tags": []
          }
        }
      ]
    },
    {
      "cell_type": "markdown",
      "metadata": {
        "colab_type": "text",
        "id": "0LdqRsKMqb60"
      },
      "source": [
        "### WITHOUT BN"
      ]
    },
    {
      "cell_type": "code",
      "metadata": {
        "colab_type": "code",
        "id": "n5HUqTiUqb61",
        "outputId": "9b6635a3-b0c2-4705-abc6-f974a0b2a2d5",
        "colab": {
          "base_uri": "https://localhost:8080/",
          "height": 521
        }
      },
      "source": [
        "#Conv2d-->Pooling-->Conv2d-->Pooling-->Conv2d---->Pooling-->FC-->Dropout-->Softmax\n",
        "#We will use Relu as Activation function and Adam as Optimizer\n",
        "\n",
        "model=Sequential()\n",
        "#Adding first layer\n",
        "model.add(Conv2D(32, kernel_size=(3, 3),activation='sigmoid',input_shape=input_shape))\n",
        "model.add(MaxPooling2D(pool_size=(2, 2)))\n",
        "\n",
        "\n",
        "#Second layer\n",
        "model.add(Conv2D(64, kernel_size=(3, 3), activation='sigmoid'))\n",
        "model.add(MaxPooling2D(pool_size=(2,2)))\n",
        "\n",
        "\n",
        "#third layer\n",
        "model.add(Conv2D(64, kernel_size=(3, 3), activation='sigmoid'))\n",
        "model.add(MaxPooling2D(pool_size=(2,2)))\n",
        "\n",
        "\n",
        "#Fully Connected layer\n",
        "#Flattening\n",
        "model.add(Flatten())\n",
        "model.add(Dense(512))\n",
        "model.add(Activation('sigmoid'))\n",
        "model.add(Dropout(0.5))\n",
        "\n",
        "#Softmax\n",
        "model.add(Dense(num_classes, activation='softmax'))\n",
        "model.summary()"
      ],
      "execution_count": 0,
      "outputs": [
        {
          "output_type": "stream",
          "text": [
            "Model: \"sequential_11\"\n",
            "_________________________________________________________________\n",
            "Layer (type)                 Output Shape              Param #   \n",
            "=================================================================\n",
            "conv2d_31 (Conv2D)           (None, 26, 26, 32)        320       \n",
            "_________________________________________________________________\n",
            "max_pooling2d_31 (MaxPooling (None, 13, 13, 32)        0         \n",
            "_________________________________________________________________\n",
            "conv2d_32 (Conv2D)           (None, 11, 11, 64)        18496     \n",
            "_________________________________________________________________\n",
            "max_pooling2d_32 (MaxPooling (None, 5, 5, 64)          0         \n",
            "_________________________________________________________________\n",
            "conv2d_33 (Conv2D)           (None, 3, 3, 64)          36928     \n",
            "_________________________________________________________________\n",
            "max_pooling2d_33 (MaxPooling (None, 1, 1, 64)          0         \n",
            "_________________________________________________________________\n",
            "flatten_11 (Flatten)         (None, 64)                0         \n",
            "_________________________________________________________________\n",
            "dense_21 (Dense)             (None, 512)               33280     \n",
            "_________________________________________________________________\n",
            "activation_11 (Activation)   (None, 512)               0         \n",
            "_________________________________________________________________\n",
            "dropout_9 (Dropout)          (None, 512)               0         \n",
            "_________________________________________________________________\n",
            "dense_22 (Dense)             (None, 10)                5130      \n",
            "=================================================================\n",
            "Total params: 94,154\n",
            "Trainable params: 94,154\n",
            "Non-trainable params: 0\n",
            "_________________________________________________________________\n"
          ],
          "name": "stdout"
        }
      ]
    },
    {
      "cell_type": "code",
      "metadata": {
        "colab_type": "code",
        "id": "pda9F2eXqb62",
        "outputId": "008f21f7-015b-4f8f-c714-fcb902406169",
        "colab": {
          "base_uri": "https://localhost:8080/",
          "height": 457
        }
      },
      "source": [
        "#Compiling with Cross-entropy-loss and Adam Optimizer taking Accuracy as a metric\n",
        "from keras.optimizers import Adam\n",
        "model.compile(loss='categorical_crossentropy', optimizer=Adam(), metrics=['accuracy'])\n",
        "history=model.fit(X_train, y_train,batch_size=batch_size,epochs=epochs,verbose=1,validation_data=(X_test, y_test))"
      ],
      "execution_count": 0,
      "outputs": [
        {
          "output_type": "stream",
          "text": [
            "Train on 60000 samples, validate on 10000 samples\n",
            "Epoch 1/12\n",
            "60000/60000 [==============================] - 4s 74us/step - loss: 2.3540 - acc: 0.1027 - val_loss: 2.3046 - val_acc: 0.0974\n",
            "Epoch 2/12\n",
            "60000/60000 [==============================] - 3s 51us/step - loss: 2.3052 - acc: 0.1054 - val_loss: 2.3026 - val_acc: 0.0974\n",
            "Epoch 3/12\n",
            "60000/60000 [==============================] - 3s 51us/step - loss: 2.3036 - acc: 0.1066 - val_loss: 2.3024 - val_acc: 0.1135\n",
            "Epoch 4/12\n",
            "60000/60000 [==============================] - 3s 52us/step - loss: 2.3024 - acc: 0.1089 - val_loss: 2.3013 - val_acc: 0.1135\n",
            "Epoch 5/12\n",
            "60000/60000 [==============================] - 3s 51us/step - loss: 2.1929 - acc: 0.1583 - val_loss: 1.2194 - val_acc: 0.6413\n",
            "Epoch 6/12\n",
            "60000/60000 [==============================] - 3s 52us/step - loss: 0.4917 - acc: 0.8502 - val_loss: 0.2106 - val_acc: 0.9333\n",
            "Epoch 7/12\n",
            "60000/60000 [==============================] - 3s 52us/step - loss: 0.2133 - acc: 0.9356 - val_loss: 0.1463 - val_acc: 0.9534\n",
            "Epoch 8/12\n",
            "60000/60000 [==============================] - 3s 54us/step - loss: 0.1559 - acc: 0.9520 - val_loss: 0.1139 - val_acc: 0.9646\n",
            "Epoch 9/12\n",
            "60000/60000 [==============================] - 3s 54us/step - loss: 0.1280 - acc: 0.9612 - val_loss: 0.0952 - val_acc: 0.9716\n",
            "Epoch 10/12\n",
            "60000/60000 [==============================] - 3s 54us/step - loss: 0.1119 - acc: 0.9655 - val_loss: 0.0963 - val_acc: 0.9705\n",
            "Epoch 11/12\n",
            "60000/60000 [==============================] - 3s 51us/step - loss: 0.0975 - acc: 0.9702 - val_loss: 0.0795 - val_acc: 0.9757\n",
            "Epoch 12/12\n",
            "60000/60000 [==============================] - 3s 51us/step - loss: 0.0873 - acc: 0.9731 - val_loss: 0.0753 - val_acc: 0.9779\n"
          ],
          "name": "stdout"
        }
      ]
    },
    {
      "cell_type": "code",
      "metadata": {
        "colab_type": "code",
        "id": "HcSosV6Uqb63",
        "colab": {}
      },
      "source": [
        "import matplotlib.pyplot as plt\n",
        "import numpy as np\n",
        "\n",
        "def plt_dynamic(x, vy, ty, ax, colors=['b']):\n",
        "    ax.plot(x, vy, 'b', label=\"Validation Loss\")\n",
        "    ax.plot(x, ty, 'r', label=\"Train Loss\")\n",
        "    plt.legend()\n",
        "    plt.grid()\n",
        "    fig.canvas.draw()"
      ],
      "execution_count": 0,
      "outputs": []
    },
    {
      "cell_type": "code",
      "metadata": {
        "colab_type": "code",
        "id": "0RyNUBbuqb65",
        "outputId": "da14ff20-e528-4ca8-8aec-c1573a475149",
        "colab": {
          "base_uri": "https://localhost:8080/",
          "height": 329
        }
      },
      "source": [
        "score = model.evaluate(X_test, y_test, verbose=0) \n",
        "print('Test score:', score[0]) \n",
        "print('Test accuracy:', score[1])\n",
        "\n",
        "fig,ax = plt.subplots(1,1)\n",
        "ax.set_title('Epoch vs Loss')\n",
        "ax.set_xlabel('epoch') ; ax.set_ylabel('Categorical Crossentropy Loss')\n",
        "\n",
        "# list of epoch numbers\n",
        "x = list(range(1,epochs+1))\n",
        "\n",
        "\n",
        "vy = history.history['val_loss']\n",
        "ty = history.history['loss']\n",
        "plt_dynamic(x, vy, ty, ax)"
      ],
      "execution_count": 0,
      "outputs": [
        {
          "output_type": "stream",
          "text": [
            "Test score: 0.07533405585018918\n",
            "Test accuracy: 0.9779\n"
          ],
          "name": "stdout"
        },
        {
          "output_type": "display_data",
          "data": {
            "image/png": "[encoded data removed]",
            "text/plain": [
              "<Figure size 432x288 with 1 Axes>"
            ]
          },
          "metadata": {
            "tags": []
          }
        }
      ]
    },
    {
      "cell_type": "markdown",
      "metadata": {
        "colab_type": "text",
        "id": "YwIin4c-qb67"
      },
      "source": [
        "### WITHOUT DROPOUT"
      ]
    },
    {
      "cell_type": "code",
      "metadata": {
        "colab_type": "code",
        "id": "DGupo9Pbqb68",
        "outputId": "94bb458f-308e-4dae-831b-e3866873651b",
        "colab": {
          "base_uri": "https://localhost:8080/",
          "height": 521
        }
      },
      "source": [
        "from keras.layers.normalization import BatchNormalization\n",
        "#Conv2d-->Pooling-->Conv2d-->Pooling-->Conv2d-->BN-->Pooling-->FC---->Softmax\n",
        "#We will use sigmoid as Activation function and Adam as Optimizer\n",
        "#We will also use BatchNormalization and Dropout at suitable places\n",
        "\n",
        "model=Sequential()\n",
        "#Adding first layer\n",
        "model.add(Conv2D(32, kernel_size=(3, 3),activation='sigmoid',input_shape=input_shape))\n",
        "model.add(MaxPooling2D(pool_size=(2, 2)))\n",
        "\n",
        "\n",
        "#Second layer\n",
        "model.add(Conv2D(64, kernel_size=(3, 3), activation='sigmoid'))\n",
        "model.add(MaxPooling2D(pool_size=(2,2)))\n",
        "\n",
        "\n",
        "#third layer\n",
        "model.add(Conv2D(64, kernel_size=(3, 3), activation='sigmoid'))\n",
        "model.add(BatchNormalization(axis=1))\n",
        "model.add(MaxPooling2D(pool_size=(2,2)))\n",
        "\n",
        "\n",
        "#Fully Connected layer\n",
        "#Flattening\n",
        "model.add(Flatten())\n",
        "model.add(Dense(512))\n",
        "model.add(Activation('sigmoid'))\n",
        "\n",
        "#Softmax\n",
        "model.add(Dense(num_classes, activation='softmax'))\n",
        "model.summary()"
      ],
      "execution_count": 0,
      "outputs": [
        {
          "output_type": "stream",
          "text": [
            "Model: \"sequential_12\"\n",
            "_________________________________________________________________\n",
            "Layer (type)                 Output Shape              Param #   \n",
            "=================================================================\n",
            "conv2d_34 (Conv2D)           (None, 26, 26, 32)        320       \n",
            "_________________________________________________________________\n",
            "max_pooling2d_34 (MaxPooling (None, 13, 13, 32)        0         \n",
            "_________________________________________________________________\n",
            "conv2d_35 (Conv2D)           (None, 11, 11, 64)        18496     \n",
            "_________________________________________________________________\n",
            "max_pooling2d_35 (MaxPooling (None, 5, 5, 64)          0         \n",
            "_________________________________________________________________\n",
            "conv2d_36 (Conv2D)           (None, 3, 3, 64)          36928     \n",
            "_________________________________________________________________\n",
            "batch_normalization_7 (Batch (None, 3, 3, 64)          12        \n",
            "_________________________________________________________________\n",
            "max_pooling2d_36 (MaxPooling (None, 1, 1, 64)          0         \n",
            "_________________________________________________________________\n",
            "flatten_12 (Flatten)         (None, 64)                0         \n",
            "_________________________________________________________________\n",
            "dense_23 (Dense)             (None, 512)               33280     \n",
            "_________________________________________________________________\n",
            "activation_12 (Activation)   (None, 512)               0         \n",
            "_________________________________________________________________\n",
            "dense_24 (Dense)             (None, 10)                5130      \n",
            "=================================================================\n",
            "Total params: 94,166\n",
            "Trainable params: 94,160\n",
            "Non-trainable params: 6\n",
            "_________________________________________________________________\n"
          ],
          "name": "stdout"
        }
      ]
    },
    {
      "cell_type": "code",
      "metadata": {
        "colab_type": "code",
        "id": "nxtqDAwCqb6-",
        "outputId": "f34ce532-9e84-49d4-da35-3b8f566dddbb",
        "colab": {
          "base_uri": "https://localhost:8080/",
          "height": 457
        }
      },
      "source": [
        "#Compiling with Cross-entropy-loss and Adam Optimizer taking Accuracy as a metric\n",
        "from keras.optimizers import Adam\n",
        "model.compile(loss='categorical_crossentropy', optimizer=Adam(), metrics=['accuracy'])\n",
        "history=model.fit(X_train, y_train,batch_size=batch_size,epochs=epochs,verbose=1,validation_data=(X_test, y_test))"
      ],
      "execution_count": 0,
      "outputs": [
        {
          "output_type": "stream",
          "text": [
            "Train on 60000 samples, validate on 10000 samples\n",
            "Epoch 1/12\n",
            "60000/60000 [==============================] - 5s 83us/step - loss: 1.4658 - acc: 0.4630 - val_loss: 0.3256 - val_acc: 0.9233\n",
            "Epoch 2/12\n",
            "60000/60000 [==============================] - 3s 55us/step - loss: 0.1915 - acc: 0.9427 - val_loss: 0.1524 - val_acc: 0.9523\n",
            "Epoch 3/12\n",
            "60000/60000 [==============================] - 3s 55us/step - loss: 0.1274 - acc: 0.9606 - val_loss: 0.1009 - val_acc: 0.9699\n",
            "Epoch 4/12\n",
            "60000/60000 [==============================] - 3s 54us/step - loss: 0.1000 - acc: 0.9694 - val_loss: 0.0800 - val_acc: 0.9762\n",
            "Epoch 5/12\n",
            "60000/60000 [==============================] - 3s 55us/step - loss: 0.0825 - acc: 0.9748 - val_loss: 0.0878 - val_acc: 0.9740\n",
            "Epoch 6/12\n",
            "60000/60000 [==============================] - 3s 55us/step - loss: 0.0738 - acc: 0.9770 - val_loss: 0.0650 - val_acc: 0.9799\n",
            "Epoch 7/12\n",
            "60000/60000 [==============================] - 3s 55us/step - loss: 0.0659 - acc: 0.9801 - val_loss: 0.0957 - val_acc: 0.9701\n",
            "Epoch 8/12\n",
            "60000/60000 [==============================] - 3s 55us/step - loss: 0.0613 - acc: 0.9808 - val_loss: 0.0739 - val_acc: 0.9781\n",
            "Epoch 9/12\n",
            "60000/60000 [==============================] - 3s 54us/step - loss: 0.0536 - acc: 0.9829 - val_loss: 0.0715 - val_acc: 0.9782\n",
            "Epoch 10/12\n",
            "60000/60000 [==============================] - 3s 55us/step - loss: 0.0478 - acc: 0.9848 - val_loss: 0.0624 - val_acc: 0.9834\n",
            "Epoch 11/12\n",
            "60000/60000 [==============================] - 3s 54us/step - loss: 0.0459 - acc: 0.9857 - val_loss: 0.0643 - val_acc: 0.9824\n",
            "Epoch 12/12\n",
            "60000/60000 [==============================] - 3s 55us/step - loss: 0.0395 - acc: 0.9874 - val_loss: 0.0772 - val_acc: 0.9788\n"
          ],
          "name": "stdout"
        }
      ]
    },
    {
      "cell_type": "code",
      "metadata": {
        "colab_type": "code",
        "id": "QlObdzmMqb6_",
        "colab": {}
      },
      "source": [
        "import matplotlib.pyplot as plt\n",
        "import numpy as np\n",
        "\n",
        "def plt_dynamic(x, vy, ty, ax, colors=['b']):\n",
        "    ax.plot(x, vy, 'b', label=\"Validation Loss\")\n",
        "    ax.plot(x, ty, 'r', label=\"Train Loss\")\n",
        "    plt.legend()\n",
        "    plt.grid()\n",
        "    fig.canvas.draw()"
      ],
      "execution_count": 0,
      "outputs": []
    },
    {
      "cell_type": "code",
      "metadata": {
        "colab_type": "code",
        "id": "aJAsesSmqb7A",
        "outputId": "a96891ee-9ffb-470e-e4a2-e7c0e4be0833",
        "colab": {
          "base_uri": "https://localhost:8080/",
          "height": 329
        }
      },
      "source": [
        "score = model.evaluate(X_test, y_test, verbose=0) \n",
        "print('Test score:', score[0]) \n",
        "print('Test accuracy:', score[1])\n",
        "\n",
        "fig,ax = plt.subplots(1,1)\n",
        "ax.set_title('Epoch vs Loss')\n",
        "ax.set_xlabel('epoch') ; ax.set_ylabel('Categorical Crossentropy Loss')\n",
        "\n",
        "# list of epoch numbers\n",
        "x = list(range(1,epochs+1))\n",
        "\n",
        "\n",
        "vy = history.history['val_loss']\n",
        "ty = history.history['loss']\n",
        "plt_dynamic(x, vy, ty, ax)"
      ],
      "execution_count": 0,
      "outputs": [
        {
          "output_type": "stream",
          "text": [
            "Test score: 0.07715547566683963\n",
            "Test accuracy: 0.9788\n"
          ],
          "name": "stdout"
        },
        {
          "output_type": "display_data",
          "data": {
            "image/png": "[encoded data removed]",
            "text/plain": [
              "<Figure size 432x288 with 1 Axes>"
            ]
          },
          "metadata": {
            "tags": []
          }
        }
      ]
    },
    {
      "cell_type": "markdown",
      "metadata": {
        "colab_type": "text",
        "id": "7W_oSLDiC0rR"
      },
      "source": [
        "### CNN WITH 5 LAYERS AS RELU ACTIVATION FUNCTION"
      ]
    },
    {
      "cell_type": "markdown",
      "metadata": {
        "colab_type": "text",
        "id": "S93Rqe3Fqb7C"
      },
      "source": [
        "### USING BN+DROPOUT"
      ]
    },
    {
      "cell_type": "code",
      "metadata": {
        "colab_type": "code",
        "id": "OnQdwZBZA3Gl",
        "outputId": "1127191b-2102-4fe6-87b9-522f787a8836",
        "colab": {
          "base_uri": "https://localhost:8080/",
          "height": 790
        }
      },
      "source": [
        "model=Sequential()\n",
        "#Adding first layer\n",
        "model.add(Conv2D(64, kernel_size=(3, 3),activation='relu',input_shape=input_shape))\n",
        "model.add(MaxPooling2D(pool_size=(1, 1)))\n",
        "\n",
        "#Second layer\n",
        "model.add(Conv2D(64, kernel_size=(3, 3), activation='relu'))\n",
        "model.add(Dropout(0.20))\n",
        "model.add(MaxPooling2D(pool_size=(2,2)))\n",
        "\n",
        "#third layer\n",
        "model.add(Conv2D(32, kernel_size=(3, 3), activation='relu'))\n",
        "model.add(BatchNormalization(axis=1))\n",
        "model.add(MaxPooling2D(pool_size=(1,1)))\n",
        "\n",
        "#Fourth Layer\n",
        "model.add(Conv2D(32,kernel_size=(2,2),activation='relu'))\n",
        "model.add(BatchNormalization(axis=1))\n",
        "model.add(MaxPooling2D(pool_size=(2,2)))\n",
        "\n",
        "#Fifth Layer\n",
        "model.add(Conv2D(16,kernel_size=(2,2),activation='relu'))\n",
        "model.add(MaxPooling2D(pool_size=(2,2)))\n",
        "model.add(Dropout(0.20))\n",
        "\n",
        "\n",
        "#Fully Connected layer\n",
        "#Flattening\n",
        "model.add(Flatten())\n",
        "model.add(Dense(512))\n",
        "model.add(Activation('relu'))\n",
        "model.add(Dropout(0.5))\n",
        "\n",
        "#Softmax\n",
        "model.add(Dense(num_classes, activation='softmax'))\n",
        "model.summary()"
      ],
      "execution_count": 0,
      "outputs": [
        {
          "output_type": "stream",
          "text": [
            "Model: \"sequential_13\"\n",
            "_________________________________________________________________\n",
            "Layer (type)                 Output Shape              Param #   \n",
            "=================================================================\n",
            "conv2d_37 (Conv2D)           (None, 26, 26, 64)        640       \n",
            "_________________________________________________________________\n",
            "max_pooling2d_37 (MaxPooling (None, 26, 26, 64)        0         \n",
            "_________________________________________________________________\n",
            "conv2d_38 (Conv2D)           (None, 24, 24, 64)        36928     \n",
            "_________________________________________________________________\n",
            "dropout_10 (Dropout)         (None, 24, 24, 64)        0         \n",
            "_________________________________________________________________\n",
            "max_pooling2d_38 (MaxPooling (None, 12, 12, 64)        0         \n",
            "_________________________________________________________________\n",
            "conv2d_39 (Conv2D)           (None, 10, 10, 32)        18464     \n",
            "_________________________________________________________________\n",
            "batch_normalization_8 (Batch (None, 10, 10, 32)        40        \n",
            "_________________________________________________________________\n",
            "max_pooling2d_39 (MaxPooling (None, 10, 10, 32)        0         \n",
            "_________________________________________________________________\n",
            "conv2d_40 (Conv2D)           (None, 9, 9, 32)          4128      \n",
            "_________________________________________________________________\n",
            "batch_normalization_9 (Batch (None, 9, 9, 32)          36        \n",
            "_________________________________________________________________\n",
            "max_pooling2d_40 (MaxPooling (None, 4, 4, 32)          0         \n",
            "_________________________________________________________________\n",
            "conv2d_41 (Conv2D)           (None, 3, 3, 16)          2064      \n",
            "_________________________________________________________________\n",
            "max_pooling2d_41 (MaxPooling (None, 1, 1, 16)          0         \n",
            "_________________________________________________________________\n",
            "dropout_11 (Dropout)         (None, 1, 1, 16)          0         \n",
            "_________________________________________________________________\n",
            "flatten_13 (Flatten)         (None, 16)                0         \n",
            "_________________________________________________________________\n",
            "dense_25 (Dense)             (None, 512)               8704      \n",
            "_________________________________________________________________\n",
            "activation_13 (Activation)   (None, 512)               0         \n",
            "_________________________________________________________________\n",
            "dropout_12 (Dropout)         (None, 512)               0         \n",
            "_________________________________________________________________\n",
            "dense_26 (Dense)             (None, 10)                5130      \n",
            "=================================================================\n",
            "Total params: 76,134\n",
            "Trainable params: 76,096\n",
            "Non-trainable params: 38\n",
            "_________________________________________________________________\n"
          ],
          "name": "stdout"
        }
      ]
    },
    {
      "cell_type": "code",
      "metadata": {
        "colab_type": "code",
        "id": "4SeEsK4KCATs",
        "outputId": "dc116839-ed2c-4202-9e9a-ffbb7c7fab14",
        "colab": {
          "base_uri": "https://localhost:8080/",
          "height": 457
        }
      },
      "source": [
        "#Compiling with Cross-entropy-loss and Adam Optimizer taking Accuracy as a metric\n",
        "from keras.optimizers import Adam\n",
        "model.compile(loss='categorical_crossentropy', optimizer=Adam(), metrics=['accuracy'])\n",
        "history=model.fit(X_train, y_train,batch_size=batch_size,epochs=epochs,verbose=1,validation_data=(X_test, y_test))"
      ],
      "execution_count": 0,
      "outputs": [
        {
          "output_type": "stream",
          "text": [
            "Train on 60000 samples, validate on 10000 samples\n",
            "Epoch 1/12\n",
            "60000/60000 [==============================] - 11s 175us/step - loss: 0.5994 - acc: 0.7974 - val_loss: 0.1416 - val_acc: 0.9581\n",
            "Epoch 2/12\n",
            "60000/60000 [==============================] - 8s 137us/step - loss: 0.2292 - acc: 0.9289 - val_loss: 0.1115 - val_acc: 0.9662\n",
            "Epoch 3/12\n",
            "60000/60000 [==============================] - 8s 137us/step - loss: 0.1768 - acc: 0.9450 - val_loss: 0.0797 - val_acc: 0.9771\n",
            "Epoch 4/12\n",
            "60000/60000 [==============================] - 8s 137us/step - loss: 0.1460 - acc: 0.9555 - val_loss: 0.0742 - val_acc: 0.9795\n",
            "Epoch 5/12\n",
            "60000/60000 [==============================] - 8s 137us/step - loss: 0.1314 - acc: 0.9597 - val_loss: 0.0776 - val_acc: 0.9786\n",
            "Epoch 6/12\n",
            "60000/60000 [==============================] - 8s 137us/step - loss: 0.1154 - acc: 0.9644 - val_loss: 0.0670 - val_acc: 0.9814\n",
            "Epoch 7/12\n",
            "60000/60000 [==============================] - 8s 136us/step - loss: 0.1089 - acc: 0.9665 - val_loss: 0.0698 - val_acc: 0.9801\n",
            "Epoch 8/12\n",
            "60000/60000 [==============================] - 8s 138us/step - loss: 0.1030 - acc: 0.9678 - val_loss: 0.0578 - val_acc: 0.9834\n",
            "Epoch 9/12\n",
            "60000/60000 [==============================] - 8s 138us/step - loss: 0.0928 - acc: 0.9721 - val_loss: 0.0524 - val_acc: 0.9860\n",
            "Epoch 10/12\n",
            "60000/60000 [==============================] - 8s 139us/step - loss: 0.0872 - acc: 0.9732 - val_loss: 0.0510 - val_acc: 0.9857\n",
            "Epoch 11/12\n",
            "60000/60000 [==============================] - 8s 138us/step - loss: 0.0853 - acc: 0.9738 - val_loss: 0.0537 - val_acc: 0.9851\n",
            "Epoch 12/12\n",
            "60000/60000 [==============================] - 8s 138us/step - loss: 0.0814 - acc: 0.9756 - val_loss: 0.0524 - val_acc: 0.9852\n"
          ],
          "name": "stdout"
        }
      ]
    },
    {
      "cell_type": "code",
      "metadata": {
        "colab_type": "code",
        "id": "g5LuFNpxC8An",
        "colab": {}
      },
      "source": [
        "import matplotlib.pyplot as plt\n",
        "import numpy as np\n",
        "\n",
        "def plt_dynamic(x, vy, ty, ax, colors=['b']):\n",
        "    ax.plot(x, vy, 'b', label=\"Validation Loss\")\n",
        "    ax.plot(x, ty, 'r', label=\"Train Loss\")\n",
        "    plt.legend()\n",
        "    plt.grid()\n",
        "    fig.canvas.draw()"
      ],
      "execution_count": 0,
      "outputs": []
    },
    {
      "cell_type": "code",
      "metadata": {
        "colab_type": "code",
        "id": "3aYmRHoUTIaS",
        "outputId": "db5bece3-6e5e-4998-d57d-19095fbe617c",
        "colab": {
          "base_uri": "https://localhost:8080/",
          "height": 329
        }
      },
      "source": [
        "score = model.evaluate(X_test, y_test, verbose=0) \n",
        "print('Test score:', score[0]) \n",
        "print('Test accuracy:', score[1])\n",
        "\n",
        "fig,ax = plt.subplots(1,1)\n",
        "ax.set_title('Epoch vs Loss')\n",
        "ax.set_xlabel('epoch') ; ax.set_ylabel('Categorical Crossentropy Loss')\n",
        "\n",
        "# list of epoch numbers\n",
        "x = list(range(1,epochs+1))\n",
        "\n",
        "\n",
        "vy = history.history['val_loss']\n",
        "ty = history.history['loss']\n",
        "plt_dynamic(x, vy, ty, ax)\n",
        "\n"
      ],
      "execution_count": 0,
      "outputs": [
        {
          "output_type": "stream",
          "text": [
            "Test score: 0.05238832147307694\n",
            "Test accuracy: 0.9852\n"
          ],
          "name": "stdout"
        },
        {
          "output_type": "display_data",
          "data": {
            "image/png": "[encoded data removed]",
            "text/plain": [
              "<Figure size 432x288 with 1 Axes>"
            ]
          },
          "metadata": {
            "tags": []
          }
        }
      ]
    },
    {
      "cell_type": "markdown",
      "metadata": {
        "colab_type": "text",
        "id": "dazm_Tmxqb7I"
      },
      "source": [
        "### WITHOUT BN"
      ]
    },
    {
      "cell_type": "code",
      "metadata": {
        "colab_type": "code",
        "id": "ycJhkLbbqb7I",
        "outputId": "695e8f40-93a4-445d-f8b1-507a383f5e1f",
        "colab": {
          "base_uri": "https://localhost:8080/",
          "height": 722
        }
      },
      "source": [
        "model=Sequential()\n",
        "#Adding first layer\n",
        "model.add(Conv2D(64, kernel_size=(3, 3),activation='relu',input_shape=input_shape))\n",
        "model.add(MaxPooling2D(pool_size=(1, 1)))\n",
        "\n",
        "#Second layer\n",
        "model.add(Conv2D(64, kernel_size=(3, 3), activation='relu'))\n",
        "model.add(Dropout(0.20))\n",
        "model.add(MaxPooling2D(pool_size=(2,2)))\n",
        "\n",
        "#third layer\n",
        "model.add(Conv2D(32, kernel_size=(3, 3), activation='relu'))\n",
        "model.add(MaxPooling2D(pool_size=(1,1)))\n",
        "\n",
        "#Fourth Layer\n",
        "model.add(Conv2D(32,kernel_size=(2,2),activation='relu'))\n",
        "model.add(MaxPooling2D(pool_size=(2,2)))\n",
        "\n",
        "#Fifth Layer\n",
        "model.add(Conv2D(16,kernel_size=(2,2),activation='relu'))\n",
        "model.add(MaxPooling2D(pool_size=(2,2)))\n",
        "model.add(Dropout(0.20))\n",
        "\n",
        "\n",
        "#Fully Connected layer\n",
        "#Flattening\n",
        "model.add(Flatten())\n",
        "model.add(Dense(512))\n",
        "model.add(Activation('relu'))\n",
        "model.add(Dropout(0.5))\n",
        "\n",
        "#Softmax\n",
        "model.add(Dense(num_classes, activation='softmax'))\n",
        "model.summary()"
      ],
      "execution_count": 0,
      "outputs": [
        {
          "output_type": "stream",
          "text": [
            "Model: \"sequential_14\"\n",
            "_________________________________________________________________\n",
            "Layer (type)                 Output Shape              Param #   \n",
            "=================================================================\n",
            "conv2d_42 (Conv2D)           (None, 26, 26, 64)        640       \n",
            "_________________________________________________________________\n",
            "max_pooling2d_42 (MaxPooling (None, 26, 26, 64)        0         \n",
            "_________________________________________________________________\n",
            "conv2d_43 (Conv2D)           (None, 24, 24, 64)        36928     \n",
            "_________________________________________________________________\n",
            "dropout_13 (Dropout)         (None, 24, 24, 64)        0         \n",
            "_________________________________________________________________\n",
            "max_pooling2d_43 (MaxPooling (None, 12, 12, 64)        0         \n",
            "_________________________________________________________________\n",
            "conv2d_44 (Conv2D)           (None, 10, 10, 32)        18464     \n",
            "_________________________________________________________________\n",
            "max_pooling2d_44 (MaxPooling (None, 10, 10, 32)        0         \n",
            "_________________________________________________________________\n",
            "conv2d_45 (Conv2D)           (None, 9, 9, 32)          4128      \n",
            "_________________________________________________________________\n",
            "max_pooling2d_45 (MaxPooling (None, 4, 4, 32)          0         \n",
            "_________________________________________________________________\n",
            "conv2d_46 (Conv2D)           (None, 3, 3, 16)          2064      \n",
            "_________________________________________________________________\n",
            "max_pooling2d_46 (MaxPooling (None, 1, 1, 16)          0         \n",
            "_________________________________________________________________\n",
            "dropout_14 (Dropout)         (None, 1, 1, 16)          0         \n",
            "_________________________________________________________________\n",
            "flatten_14 (Flatten)         (None, 16)                0         \n",
            "_________________________________________________________________\n",
            "dense_27 (Dense)             (None, 512)               8704      \n",
            "_________________________________________________________________\n",
            "activation_14 (Activation)   (None, 512)               0         \n",
            "_________________________________________________________________\n",
            "dropout_15 (Dropout)         (None, 512)               0         \n",
            "_________________________________________________________________\n",
            "dense_28 (Dense)             (None, 10)                5130      \n",
            "=================================================================\n",
            "Total params: 76,058\n",
            "Trainable params: 76,058\n",
            "Non-trainable params: 0\n",
            "_________________________________________________________________\n"
          ],
          "name": "stdout"
        }
      ]
    },
    {
      "cell_type": "code",
      "metadata": {
        "colab_type": "code",
        "id": "ZrCtP_Wdqb7K",
        "outputId": "d7c29c31-5be1-416a-ef1f-d1fec71d049b",
        "colab": {
          "base_uri": "https://localhost:8080/",
          "height": 457
        }
      },
      "source": [
        "#Compiling with Cross-entropy-loss and Adam Optimizer taking Accuracy as a metric\n",
        "from keras.optimizers import Adam\n",
        "model.compile(loss='categorical_crossentropy', optimizer=Adam(), metrics=['accuracy'])\n",
        "history=model.fit(X_train, y_train,batch_size=batch_size,epochs=epochs,verbose=1,validation_data=(X_test, y_test))"
      ],
      "execution_count": 0,
      "outputs": [
        {
          "output_type": "stream",
          "text": [
            "Train on 60000 samples, validate on 10000 samples\n",
            "Epoch 1/12\n",
            "60000/60000 [==============================] - 10s 159us/step - loss: 0.7369 - acc: 0.7520 - val_loss: 0.2068 - val_acc: 0.9434\n",
            "Epoch 2/12\n",
            "60000/60000 [==============================] - 7s 122us/step - loss: 0.3211 - acc: 0.9007 - val_loss: 0.1479 - val_acc: 0.9586\n",
            "Epoch 3/12\n",
            "60000/60000 [==============================] - 7s 121us/step - loss: 0.2396 - acc: 0.9259 - val_loss: 0.1113 - val_acc: 0.9684\n",
            "Epoch 4/12\n",
            "60000/60000 [==============================] - 7s 121us/step - loss: 0.2066 - acc: 0.9379 - val_loss: 0.1184 - val_acc: 0.9664\n",
            "Epoch 5/12\n",
            "60000/60000 [==============================] - 7s 122us/step - loss: 0.1791 - acc: 0.9450 - val_loss: 0.0966 - val_acc: 0.9745\n",
            "Epoch 6/12\n",
            "60000/60000 [==============================] - 7s 121us/step - loss: 0.1571 - acc: 0.9525 - val_loss: 0.0849 - val_acc: 0.9769\n",
            "Epoch 7/12\n",
            "60000/60000 [==============================] - 7s 122us/step - loss: 0.1442 - acc: 0.9563 - val_loss: 0.0780 - val_acc: 0.9806\n",
            "Epoch 8/12\n",
            "60000/60000 [==============================] - 7s 123us/step - loss: 0.1355 - acc: 0.9587 - val_loss: 0.0794 - val_acc: 0.9780\n",
            "Epoch 9/12\n",
            "60000/60000 [==============================] - 7s 121us/step - loss: 0.1243 - acc: 0.9623 - val_loss: 0.0707 - val_acc: 0.9804\n",
            "Epoch 10/12\n",
            "60000/60000 [==============================] - 7s 121us/step - loss: 0.1155 - acc: 0.9656 - val_loss: 0.0650 - val_acc: 0.9815\n",
            "Epoch 11/12\n",
            "60000/60000 [==============================] - 7s 122us/step - loss: 0.1107 - acc: 0.9667 - val_loss: 0.0604 - val_acc: 0.9848\n",
            "Epoch 12/12\n",
            "60000/60000 [==============================] - 7s 120us/step - loss: 0.1019 - acc: 0.9694 - val_loss: 0.0604 - val_acc: 0.9832\n"
          ],
          "name": "stdout"
        }
      ]
    },
    {
      "cell_type": "code",
      "metadata": {
        "colab_type": "code",
        "id": "cjwML2t-qb7L",
        "colab": {}
      },
      "source": [
        "import matplotlib.pyplot as plt\n",
        "import numpy as np\n",
        "\n",
        "def plt_dynamic(x, vy, ty, ax, colors=['b']):\n",
        "    ax.plot(x, vy, 'b', label=\"Validation Loss\")\n",
        "    ax.plot(x, ty, 'r', label=\"Train Loss\")\n",
        "    plt.legend()\n",
        "    plt.grid()\n",
        "    fig.canvas.draw()"
      ],
      "execution_count": 0,
      "outputs": []
    },
    {
      "cell_type": "code",
      "metadata": {
        "colab_type": "code",
        "id": "qEjgP6Vfqb7M",
        "outputId": "9a12e4ed-1d0b-4bf0-94ff-98ff6ead597a",
        "colab": {
          "base_uri": "https://localhost:8080/",
          "height": 329
        }
      },
      "source": [
        "score = model.evaluate(X_test, y_test, verbose=0) \n",
        "print('Test score:', score[0]) \n",
        "print('Test accuracy:', score[1])\n",
        "\n",
        "fig,ax = plt.subplots(1,1)\n",
        "ax.set_title('Epoch vs Loss')\n",
        "ax.set_xlabel('epoch') ; ax.set_ylabel('Categorical Crossentropy Loss')\n",
        "\n",
        "# list of epoch numbers\n",
        "x = list(range(1,epochs+1))\n",
        "\n",
        "\n",
        "vy = history.history['val_loss']\n",
        "ty = history.history['loss']\n",
        "plt_dynamic(x, vy, ty, ax)"
      ],
      "execution_count": 0,
      "outputs": [
        {
          "output_type": "stream",
          "text": [
            "Test score: 0.06042629976607859\n",
            "Test accuracy: 0.9832\n"
          ],
          "name": "stdout"
        },
        {
          "output_type": "display_data",
          "data": {
            "image/png": "[encoded data removed]",
            "text/plain": [
              "<Figure size 432x288 with 1 Axes>"
            ]
          },
          "metadata": {
            "tags": []
          }
        }
      ]
    },
    {
      "cell_type": "markdown",
      "metadata": {
        "colab_type": "text",
        "id": "58ik5_JYqb7O"
      },
      "source": [
        "### WITHOUT DROPOUT"
      ]
    },
    {
      "cell_type": "code",
      "metadata": {
        "colab_type": "code",
        "id": "JQ7k2eqbqb7O",
        "outputId": "43d346ef-d954-4453-8e80-10ab78284707",
        "colab": {
          "base_uri": "https://localhost:8080/",
          "height": 689
        }
      },
      "source": [
        "model=Sequential()\n",
        "#Adding first layer\n",
        "model.add(Conv2D(64, kernel_size=(3, 3),activation='relu',input_shape=input_shape))\n",
        "model.add(MaxPooling2D(pool_size=(1, 1)))\n",
        "\n",
        "#Second layer\n",
        "model.add(Conv2D(64, kernel_size=(3, 3), activation='relu'))\n",
        "model.add(MaxPooling2D(pool_size=(2,2)))\n",
        "\n",
        "#third layer\n",
        "model.add(Conv2D(32, kernel_size=(3, 3), activation='relu'))\n",
        "model.add(BatchNormalization(axis=1))\n",
        "model.add(MaxPooling2D(pool_size=(1,1)))\n",
        "\n",
        "#Fourth Layer\n",
        "model.add(Conv2D(32,kernel_size=(2,2),activation='relu'))\n",
        "model.add(BatchNormalization(axis=1))\n",
        "model.add(MaxPooling2D(pool_size=(2,2)))\n",
        "\n",
        "#Fifth Layer\n",
        "model.add(Conv2D(16,kernel_size=(2,2),activation='relu'))\n",
        "model.add(MaxPooling2D(pool_size=(2,2)))\n",
        "\n",
        "\n",
        "#Fully Connected layer\n",
        "#Flattening\n",
        "model.add(Flatten())\n",
        "model.add(Dense(512))\n",
        "model.add(Activation('relu'))\n",
        "\n",
        "#Softmax\n",
        "model.add(Dense(num_classes, activation='softmax'))\n",
        "model.summary()"
      ],
      "execution_count": 0,
      "outputs": [
        {
          "output_type": "stream",
          "text": [
            "Model: \"sequential_15\"\n",
            "_________________________________________________________________\n",
            "Layer (type)                 Output Shape              Param #   \n",
            "=================================================================\n",
            "conv2d_47 (Conv2D)           (None, 26, 26, 64)        640       \n",
            "_________________________________________________________________\n",
            "max_pooling2d_47 (MaxPooling (None, 26, 26, 64)        0         \n",
            "_________________________________________________________________\n",
            "conv2d_48 (Conv2D)           (None, 24, 24, 64)        36928     \n",
            "_________________________________________________________________\n",
            "max_pooling2d_48 (MaxPooling (None, 12, 12, 64)        0         \n",
            "_________________________________________________________________\n",
            "conv2d_49 (Conv2D)           (None, 10, 10, 32)        18464     \n",
            "_________________________________________________________________\n",
            "batch_normalization_10 (Batc (None, 10, 10, 32)        40        \n",
            "_________________________________________________________________\n",
            "max_pooling2d_49 (MaxPooling (None, 10, 10, 32)        0         \n",
            "_________________________________________________________________\n",
            "conv2d_50 (Conv2D)           (None, 9, 9, 32)          4128      \n",
            "_________________________________________________________________\n",
            "batch_normalization_11 (Batc (None, 9, 9, 32)          36        \n",
            "_________________________________________________________________\n",
            "max_pooling2d_50 (MaxPooling (None, 4, 4, 32)          0         \n",
            "_________________________________________________________________\n",
            "conv2d_51 (Conv2D)           (None, 3, 3, 16)          2064      \n",
            "_________________________________________________________________\n",
            "max_pooling2d_51 (MaxPooling (None, 1, 1, 16)          0         \n",
            "_________________________________________________________________\n",
            "flatten_15 (Flatten)         (None, 16)                0         \n",
            "_________________________________________________________________\n",
            "dense_29 (Dense)             (None, 512)               8704      \n",
            "_________________________________________________________________\n",
            "activation_15 (Activation)   (None, 512)               0         \n",
            "_________________________________________________________________\n",
            "dense_30 (Dense)             (None, 10)                5130      \n",
            "=================================================================\n",
            "Total params: 76,134\n",
            "Trainable params: 76,096\n",
            "Non-trainable params: 38\n",
            "_________________________________________________________________\n"
          ],
          "name": "stdout"
        }
      ]
    },
    {
      "cell_type": "code",
      "metadata": {
        "colab_type": "code",
        "id": "f4P8-gilqb7P",
        "outputId": "1b7c6848-1b6f-4ef7-cf4c-ae70e80dc03b",
        "colab": {
          "base_uri": "https://localhost:8080/",
          "height": 457
        }
      },
      "source": [
        "#Compiling with Cross-entropy-loss and Adam Optimizer taking Accuracy as a metric\n",
        "from keras.optimizers import Adam\n",
        "model.compile(loss='categorical_crossentropy', optimizer=Adam(), metrics=['accuracy'])\n",
        "history=model.fit(X_train, y_train,batch_size=batch_size,epochs=epochs,verbose=1,validation_data=(X_test, y_test))"
      ],
      "execution_count": 0,
      "outputs": [
        {
          "output_type": "stream",
          "text": [
            "Train on 60000 samples, validate on 10000 samples\n",
            "Epoch 1/12\n",
            "60000/60000 [==============================] - 9s 155us/step - loss: 0.2806 - acc: 0.9127 - val_loss: 0.0900 - val_acc: 0.9721\n",
            "Epoch 2/12\n",
            "60000/60000 [==============================] - 7s 115us/step - loss: 0.0881 - acc: 0.9727 - val_loss: 0.0809 - val_acc: 0.9754\n",
            "Epoch 3/12\n",
            "60000/60000 [==============================] - 7s 116us/step - loss: 0.0641 - acc: 0.9799 - val_loss: 0.0663 - val_acc: 0.9813\n",
            "Epoch 4/12\n",
            "60000/60000 [==============================] - 7s 115us/step - loss: 0.0526 - acc: 0.9835 - val_loss: 0.0566 - val_acc: 0.9831\n",
            "Epoch 5/12\n",
            "60000/60000 [==============================] - 7s 115us/step - loss: 0.0445 - acc: 0.9860 - val_loss: 0.0542 - val_acc: 0.9848\n",
            "Epoch 6/12\n",
            "60000/60000 [==============================] - 7s 115us/step - loss: 0.0403 - acc: 0.9865 - val_loss: 0.0511 - val_acc: 0.9858\n",
            "Epoch 7/12\n",
            "60000/60000 [==============================] - 7s 116us/step - loss: 0.0336 - acc: 0.9887 - val_loss: 0.0632 - val_acc: 0.9801\n",
            "Epoch 8/12\n",
            "60000/60000 [==============================] - 7s 117us/step - loss: 0.0295 - acc: 0.9902 - val_loss: 0.0523 - val_acc: 0.9860\n",
            "Epoch 9/12\n",
            "60000/60000 [==============================] - 7s 118us/step - loss: 0.0274 - acc: 0.9908 - val_loss: 0.0496 - val_acc: 0.9875\n",
            "Epoch 10/12\n",
            "60000/60000 [==============================] - 7s 115us/step - loss: 0.0262 - acc: 0.9910 - val_loss: 0.0601 - val_acc: 0.9838\n",
            "Epoch 11/12\n",
            "60000/60000 [==============================] - 7s 115us/step - loss: 0.0229 - acc: 0.9918 - val_loss: 0.0519 - val_acc: 0.9860\n",
            "Epoch 12/12\n",
            "60000/60000 [==============================] - 7s 116us/step - loss: 0.0210 - acc: 0.9932 - val_loss: 0.0473 - val_acc: 0.9867\n"
          ],
          "name": "stdout"
        }
      ]
    },
    {
      "cell_type": "code",
      "metadata": {
        "colab_type": "code",
        "id": "10ExQLmRqb7Q",
        "colab": {}
      },
      "source": [
        "import matplotlib.pyplot as plt\n",
        "import numpy as np\n",
        "\n",
        "def plt_dynamic(x, vy, ty, ax, colors=['b']):\n",
        "    ax.plot(x, vy, 'b', label=\"Validation Loss\")\n",
        "    ax.plot(x, ty, 'r', label=\"Train Loss\")\n",
        "    plt.legend()\n",
        "    plt.grid()\n",
        "    fig.canvas.draw()"
      ],
      "execution_count": 0,
      "outputs": []
    },
    {
      "cell_type": "code",
      "metadata": {
        "colab_type": "code",
        "id": "8SRyVRHUqb7S",
        "outputId": "6e9f54ec-e9e3-4092-c371-1fef997d1b25",
        "colab": {
          "base_uri": "https://localhost:8080/",
          "height": 329
        }
      },
      "source": [
        "score = model.evaluate(X_test, y_test, verbose=0) \n",
        "print('Test score:', score[0]) \n",
        "print('Test accuracy:', score[1])\n",
        "\n",
        "fig,ax = plt.subplots(1,1)\n",
        "ax.set_title('Epoch vs Loss')\n",
        "ax.set_xlabel('epoch') ; ax.set_ylabel('Categorical Crossentropy Loss')\n",
        "\n",
        "# list of epoch numbers\n",
        "x = list(range(1,epochs+1))\n",
        "\n",
        "\n",
        "vy = history.history['val_loss']\n",
        "ty = history.history['loss']\n",
        "plt_dynamic(x, vy, ty, ax)"
      ],
      "execution_count": 0,
      "outputs": [
        {
          "output_type": "stream",
          "text": [
            "Test score: 0.04732237683171697\n",
            "Test accuracy: 0.9867\n"
          ],
          "name": "stdout"
        },
        {
          "output_type": "display_data",
          "data": {
            "image/png": "[encoded data removed]",
            "text/plain": [
              "<Figure size 432x288 with 1 Axes>"
            ]
          },
          "metadata": {
            "tags": []
          }
        }
      ]
    },
    {
      "cell_type": "markdown",
      "metadata": {
        "colab_type": "text",
        "id": "UkQMnunpqb7T"
      },
      "source": [
        "### CNN WITH 5 LAYERS AS SIGMOID ACTIVATION FUNCTION"
      ]
    },
    {
      "cell_type": "markdown",
      "metadata": {
        "colab_type": "text",
        "id": "p-Xoi65Eqb7U"
      },
      "source": [
        "### USING BN+DROPOUT"
      ]
    },
    {
      "cell_type": "code",
      "metadata": {
        "colab_type": "code",
        "id": "vei4fOnzqb7U",
        "outputId": "07395646-414d-4c69-9f3f-4e5bc005406f",
        "colab": {
          "base_uri": "https://localhost:8080/",
          "height": 790
        }
      },
      "source": [
        "model=Sequential()\n",
        "#Adding first layer\n",
        "model.add(Conv2D(64, kernel_size=(3, 3),activation='sigmoid',input_shape=input_shape))\n",
        "model.add(MaxPooling2D(pool_size=(1, 1)))\n",
        "\n",
        "#Second layer\n",
        "model.add(Conv2D(64, kernel_size=(3, 3), activation='sigmoid'))\n",
        "model.add(Dropout(0.20))\n",
        "model.add(MaxPooling2D(pool_size=(2,2)))\n",
        "\n",
        "#third layer\n",
        "model.add(Conv2D(32, kernel_size=(3, 3), activation='sigmoid'))\n",
        "model.add(BatchNormalization(axis=1))\n",
        "model.add(MaxPooling2D(pool_size=(1,1)))\n",
        "\n",
        "#Fourth Layer\n",
        "model.add(Conv2D(32,kernel_size=(2,2),activation='sigmoid'))\n",
        "model.add(BatchNormalization(axis=1))\n",
        "model.add(MaxPooling2D(pool_size=(2,2)))\n",
        "\n",
        "#Fifth Layer\n",
        "model.add(Conv2D(16,kernel_size=(2,2),activation='sigmoid'))\n",
        "model.add(MaxPooling2D(pool_size=(2,2)))\n",
        "model.add(Dropout(0.20))\n",
        "\n",
        "\n",
        "#Fully Connected layer\n",
        "#Flattening\n",
        "model.add(Flatten())\n",
        "model.add(Dense(512))\n",
        "model.add(Activation('sigmoid'))\n",
        "model.add(Dropout(0.5))\n",
        "\n",
        "#Softmax\n",
        "model.add(Dense(num_classes, activation='softmax'))\n",
        "model.summary()"
      ],
      "execution_count": 0,
      "outputs": [
        {
          "output_type": "stream",
          "text": [
            "Model: \"sequential_16\"\n",
            "_________________________________________________________________\n",
            "Layer (type)                 Output Shape              Param #   \n",
            "=================================================================\n",
            "conv2d_52 (Conv2D)           (None, 26, 26, 64)        640       \n",
            "_________________________________________________________________\n",
            "max_pooling2d_52 (MaxPooling (None, 26, 26, 64)        0         \n",
            "_________________________________________________________________\n",
            "conv2d_53 (Conv2D)           (None, 24, 24, 64)        36928     \n",
            "_________________________________________________________________\n",
            "dropout_16 (Dropout)         (None, 24, 24, 64)        0         \n",
            "_________________________________________________________________\n",
            "max_pooling2d_53 (MaxPooling (None, 12, 12, 64)        0         \n",
            "_________________________________________________________________\n",
            "conv2d_54 (Conv2D)           (None, 10, 10, 32)        18464     \n",
            "_________________________________________________________________\n",
            "batch_normalization_12 (Batc (None, 10, 10, 32)        40        \n",
            "_________________________________________________________________\n",
            "max_pooling2d_54 (MaxPooling (None, 10, 10, 32)        0         \n",
            "_________________________________________________________________\n",
            "conv2d_55 (Conv2D)           (None, 9, 9, 32)          4128      \n",
            "_________________________________________________________________\n",
            "batch_normalization_13 (Batc (None, 9, 9, 32)          36        \n",
            "_________________________________________________________________\n",
            "max_pooling2d_55 (MaxPooling (None, 4, 4, 32)          0         \n",
            "_________________________________________________________________\n",
            "conv2d_56 (Conv2D)           (None, 3, 3, 16)          2064      \n",
            "_________________________________________________________________\n",
            "max_pooling2d_56 (MaxPooling (None, 1, 1, 16)          0         \n",
            "_________________________________________________________________\n",
            "dropout_17 (Dropout)         (None, 1, 1, 16)          0         \n",
            "_________________________________________________________________\n",
            "flatten_16 (Flatten)         (None, 16)                0         \n",
            "_________________________________________________________________\n",
            "dense_31 (Dense)             (None, 512)               8704      \n",
            "_________________________________________________________________\n",
            "activation_16 (Activation)   (None, 512)               0         \n",
            "_________________________________________________________________\n",
            "dropout_18 (Dropout)         (None, 512)               0         \n",
            "_________________________________________________________________\n",
            "dense_32 (Dense)             (None, 10)                5130      \n",
            "=================================================================\n",
            "Total params: 76,134\n",
            "Trainable params: 76,096\n",
            "Non-trainable params: 38\n",
            "_________________________________________________________________\n"
          ],
          "name": "stdout"
        }
      ]
    },
    {
      "cell_type": "code",
      "metadata": {
        "colab_type": "code",
        "id": "s9h6NfhHqb7V",
        "outputId": "2b5dad72-b18d-40a2-d484-fa0808ec631a",
        "colab": {
          "base_uri": "https://localhost:8080/",
          "height": 457
        }
      },
      "source": [
        "#Compiling with Cross-entropy-loss and Adam Optimizer taking Accuracy as a metric\n",
        "from keras.optimizers import Adam\n",
        "model.compile(loss='categorical_crossentropy', optimizer=Adam(), metrics=['accuracy'])\n",
        "history=model.fit(X_train, y_train,batch_size=batch_size,epochs=epochs,verbose=1,validation_data=(X_test, y_test))"
      ],
      "execution_count": 0,
      "outputs": [
        {
          "output_type": "stream",
          "text": [
            "Train on 60000 samples, validate on 10000 samples\n",
            "Epoch 1/12\n",
            "60000/60000 [==============================] - 10s 173us/step - loss: 2.4012 - acc: 0.1036 - val_loss: 2.3044 - val_acc: 0.1028\n",
            "Epoch 2/12\n",
            "60000/60000 [==============================] - 8s 129us/step - loss: 2.3268 - acc: 0.0999 - val_loss: 2.3069 - val_acc: 0.0958\n",
            "Epoch 3/12\n",
            "60000/60000 [==============================] - 8s 129us/step - loss: 2.3136 - acc: 0.1036 - val_loss: 2.3033 - val_acc: 0.1028\n",
            "Epoch 4/12\n",
            "60000/60000 [==============================] - 8s 128us/step - loss: 2.3084 - acc: 0.1033 - val_loss: 2.3023 - val_acc: 0.1135\n",
            "Epoch 5/12\n",
            "60000/60000 [==============================] - 8s 128us/step - loss: 2.3069 - acc: 0.1063 - val_loss: 2.3018 - val_acc: 0.1135\n",
            "Epoch 6/12\n",
            "60000/60000 [==============================] - 8s 128us/step - loss: 2.3056 - acc: 0.1060 - val_loss: 2.3018 - val_acc: 0.1135\n",
            "Epoch 7/12\n",
            "60000/60000 [==============================] - 8s 128us/step - loss: 2.3051 - acc: 0.1051 - val_loss: 2.3026 - val_acc: 0.1135\n",
            "Epoch 8/12\n",
            "60000/60000 [==============================] - 8s 128us/step - loss: 2.3042 - acc: 0.1095 - val_loss: 2.3018 - val_acc: 0.1135\n",
            "Epoch 9/12\n",
            "60000/60000 [==============================] - 8s 133us/step - loss: 2.3032 - acc: 0.1074 - val_loss: 2.3015 - val_acc: 0.1135\n",
            "Epoch 10/12\n",
            "60000/60000 [==============================] - 8s 128us/step - loss: 2.3030 - acc: 0.1096 - val_loss: 2.3015 - val_acc: 0.1135\n",
            "Epoch 11/12\n",
            "60000/60000 [==============================] - 8s 134us/step - loss: 2.3028 - acc: 0.1078 - val_loss: 2.3018 - val_acc: 0.1135\n",
            "Epoch 12/12\n",
            "60000/60000 [==============================] - 8s 129us/step - loss: 2.3028 - acc: 0.1093 - val_loss: 2.3016 - val_acc: 0.1135\n"
          ],
          "name": "stdout"
        }
      ]
    },
    {
      "cell_type": "code",
      "metadata": {
        "colab_type": "code",
        "id": "nNYFUs4cqb7X",
        "colab": {}
      },
      "source": [
        "import matplotlib.pyplot as plt\n",
        "import numpy as np\n",
        "\n",
        "def plt_dynamic(x, vy, ty, ax, colors=['b']):\n",
        "    ax.plot(x, vy, 'b', label=\"Validation Loss\")\n",
        "    ax.plot(x, ty, 'r', label=\"Train Loss\")\n",
        "    plt.legend()\n",
        "    plt.grid()\n",
        "    fig.canvas.draw()"
      ],
      "execution_count": 0,
      "outputs": []
    },
    {
      "cell_type": "code",
      "metadata": {
        "colab_type": "code",
        "id": "oEjD8Su3qb7Y",
        "outputId": "15809192-91b1-425f-8583-b0b9e37180c6",
        "colab": {
          "base_uri": "https://localhost:8080/",
          "height": 329
        }
      },
      "source": [
        "score = model.evaluate(X_test, y_test, verbose=0) \n",
        "print('Test score:', score[0]) \n",
        "print('Test accuracy:', score[1])\n",
        "\n",
        "fig,ax = plt.subplots(1,1)\n",
        "ax.set_title('Epoch vs Loss')\n",
        "ax.set_xlabel('epoch') ; ax.set_ylabel('Categorical Crossentropy Loss')\n",
        "\n",
        "# list of epoch numbers\n",
        "x = list(range(1,epochs+1))\n",
        "\n",
        "\n",
        "vy = history.history['val_loss']\n",
        "ty = history.history['loss']\n",
        "plt_dynamic(x, vy, ty, ax)"
      ],
      "execution_count": 0,
      "outputs": [
        {
          "output_type": "stream",
          "text": [
            "Test score: 0.03929063466354273\n",
            "Test accuracy: 0.9873\n"
          ],
          "name": "stdout"
        },
        {
          "output_type": "display_data",
          "data": {
            "image/png": "[encoded data removed]",
            "text/plain": [
              "<Figure size 432x288 with 1 Axes>"
            ]
          },
          "metadata": {
            "tags": []
          }
        }
      ]
    },
    {
      "cell_type": "markdown",
      "metadata": {
        "colab_type": "text",
        "id": "Gl2gEC2Hqb7a"
      },
      "source": [
        "### WITHOUT BN"
      ]
    },
    {
      "cell_type": "code",
      "metadata": {
        "colab_type": "code",
        "id": "7Cd8G7Faqb7a",
        "outputId": "9c23340d-8b67-4b5a-8815-3b63a87d9c93",
        "colab": {
          "base_uri": "https://localhost:8080/",
          "height": 722
        }
      },
      "source": [
        "model=Sequential()\n",
        "#Adding first layer\n",
        "model.add(Conv2D(64, kernel_size=(3, 3),activation='sigmoid',input_shape=input_shape))\n",
        "model.add(MaxPooling2D(pool_size=(1, 1)))\n",
        "\n",
        "#Second layer\n",
        "model.add(Conv2D(64, kernel_size=(3, 3), activation='sigmoid'))\n",
        "model.add(Dropout(0.20))\n",
        "model.add(MaxPooling2D(pool_size=(2,2)))\n",
        "\n",
        "#third layer\n",
        "model.add(Conv2D(32, kernel_size=(3, 3), activation='sigmoid'))\n",
        "model.add(MaxPooling2D(pool_size=(1,1)))\n",
        "\n",
        "#Fourth Layer\n",
        "model.add(Conv2D(32,kernel_size=(2,2),activation='sigmoid'))\n",
        "model.add(MaxPooling2D(pool_size=(2,2)))\n",
        "\n",
        "#Fifth Layer\n",
        "model.add(Conv2D(16,kernel_size=(2,2),activation='sigmoid'))\n",
        "model.add(MaxPooling2D(pool_size=(2,2)))\n",
        "model.add(Dropout(0.20))\n",
        "\n",
        "\n",
        "#Fully Connected layer\n",
        "#Flattening\n",
        "model.add(Flatten())\n",
        "model.add(Dense(512))\n",
        "model.add(Activation('sigmoid'))\n",
        "model.add(Dropout(0.5))\n",
        "\n",
        "#Softmax\n",
        "model.add(Dense(num_classes, activation='softmax'))\n",
        "model.summary()"
      ],
      "execution_count": 0,
      "outputs": [
        {
          "output_type": "stream",
          "text": [
            "Model: \"sequential_17\"\n",
            "_________________________________________________________________\n",
            "Layer (type)                 Output Shape              Param #   \n",
            "=================================================================\n",
            "conv2d_57 (Conv2D)           (None, 26, 26, 64)        640       \n",
            "_________________________________________________________________\n",
            "max_pooling2d_57 (MaxPooling (None, 26, 26, 64)        0         \n",
            "_________________________________________________________________\n",
            "conv2d_58 (Conv2D)           (None, 24, 24, 64)        36928     \n",
            "_________________________________________________________________\n",
            "dropout_19 (Dropout)         (None, 24, 24, 64)        0         \n",
            "_________________________________________________________________\n",
            "max_pooling2d_58 (MaxPooling (None, 12, 12, 64)        0         \n",
            "_________________________________________________________________\n",
            "conv2d_59 (Conv2D)           (None, 10, 10, 32)        18464     \n",
            "_________________________________________________________________\n",
            "max_pooling2d_59 (MaxPooling (None, 10, 10, 32)        0         \n",
            "_________________________________________________________________\n",
            "conv2d_60 (Conv2D)           (None, 9, 9, 32)          4128      \n",
            "_________________________________________________________________\n",
            "max_pooling2d_60 (MaxPooling (None, 4, 4, 32)          0         \n",
            "_________________________________________________________________\n",
            "conv2d_61 (Conv2D)           (None, 3, 3, 16)          2064      \n",
            "_________________________________________________________________\n",
            "max_pooling2d_61 (MaxPooling (None, 1, 1, 16)          0         \n",
            "_________________________________________________________________\n",
            "dropout_20 (Dropout)         (None, 1, 1, 16)          0         \n",
            "_________________________________________________________________\n",
            "flatten_17 (Flatten)         (None, 16)                0         \n",
            "_________________________________________________________________\n",
            "dense_33 (Dense)             (None, 512)               8704      \n",
            "_________________________________________________________________\n",
            "activation_17 (Activation)   (None, 512)               0         \n",
            "_________________________________________________________________\n",
            "dropout_21 (Dropout)         (None, 512)               0         \n",
            "_________________________________________________________________\n",
            "dense_34 (Dense)             (None, 10)                5130      \n",
            "=================================================================\n",
            "Total params: 76,058\n",
            "Trainable params: 76,058\n",
            "Non-trainable params: 0\n",
            "_________________________________________________________________\n"
          ],
          "name": "stdout"
        }
      ]
    },
    {
      "cell_type": "code",
      "metadata": {
        "colab_type": "code",
        "id": "X6rFjLAUqb7c",
        "outputId": "dae210d0-e01b-432f-ed66-423f19104835",
        "colab": {
          "base_uri": "https://localhost:8080/",
          "height": 457
        }
      },
      "source": [
        "#Compiling with Cross-entropy-loss and Adam Optimizer taking Accuracy as a metric\n",
        "from keras.optimizers import Adam\n",
        "model.compile(loss='categorical_crossentropy', optimizer=Adam(), metrics=['accuracy'])\n",
        "history=model.fit(X_train, y_train,batch_size=batch_size,epochs=epochs,verbose=1,validation_data=(X_test, y_test))"
      ],
      "execution_count": 0,
      "outputs": [
        {
          "output_type": "stream",
          "text": [
            "Train on 60000 samples, validate on 10000 samples\n",
            "Epoch 1/12\n",
            "60000/60000 [==============================] - 10s 170us/step - loss: 2.4015 - acc: 0.1020 - val_loss: 2.3055 - val_acc: 0.1032\n",
            "Epoch 2/12\n",
            "60000/60000 [==============================] - 8s 126us/step - loss: 2.3254 - acc: 0.1023 - val_loss: 2.3061 - val_acc: 0.1028\n",
            "Epoch 3/12\n",
            "60000/60000 [==============================] - 7s 122us/step - loss: 2.3138 - acc: 0.1026 - val_loss: 2.3021 - val_acc: 0.1028\n",
            "Epoch 4/12\n",
            "60000/60000 [==============================] - 7s 125us/step - loss: 2.3090 - acc: 0.1046 - val_loss: 2.3033 - val_acc: 0.1009\n",
            "Epoch 5/12\n",
            "60000/60000 [==============================] - 7s 125us/step - loss: 2.3065 - acc: 0.1036 - val_loss: 2.3024 - val_acc: 0.1135\n",
            "Epoch 6/12\n",
            "60000/60000 [==============================] - 7s 124us/step - loss: 2.3053 - acc: 0.1056 - val_loss: 2.3023 - val_acc: 0.1135\n",
            "Epoch 7/12\n",
            "60000/60000 [==============================] - 7s 124us/step - loss: 2.3049 - acc: 0.1057 - val_loss: 2.3016 - val_acc: 0.1135\n",
            "Epoch 8/12\n",
            "60000/60000 [==============================] - 7s 122us/step - loss: 2.3040 - acc: 0.1073 - val_loss: 2.3021 - val_acc: 0.1135\n",
            "Epoch 9/12\n",
            "60000/60000 [==============================] - 7s 121us/step - loss: 2.3036 - acc: 0.1075 - val_loss: 2.3017 - val_acc: 0.1135\n",
            "Epoch 10/12\n",
            "60000/60000 [==============================] - 7s 122us/step - loss: 2.3034 - acc: 0.1092 - val_loss: 2.3016 - val_acc: 0.1135\n",
            "Epoch 11/12\n",
            "60000/60000 [==============================] - 7s 121us/step - loss: 2.3028 - acc: 0.1090 - val_loss: 2.3026 - val_acc: 0.1135\n",
            "Epoch 12/12\n",
            "60000/60000 [==============================] - 7s 121us/step - loss: 2.3028 - acc: 0.1087 - val_loss: 2.3017 - val_acc: 0.1135\n"
          ],
          "name": "stdout"
        }
      ]
    },
    {
      "cell_type": "code",
      "metadata": {
        "colab_type": "code",
        "id": "sSaajoPUqb7e",
        "colab": {}
      },
      "source": [
        "import matplotlib.pyplot as plt\n",
        "import numpy as np\n",
        "\n",
        "def plt_dynamic(x, vy, ty, ax, colors=['b']):\n",
        "    ax.plot(x, vy, 'b', label=\"Validation Loss\")\n",
        "    ax.plot(x, ty, 'r', label=\"Train Loss\")\n",
        "    plt.legend()\n",
        "    plt.grid()\n",
        "    fig.canvas.draw()"
      ],
      "execution_count": 0,
      "outputs": []
    },
    {
      "cell_type": "code",
      "metadata": {
        "colab_type": "code",
        "id": "W7Sx0uQKqb7g",
        "outputId": "d3570538-ae8c-4c44-b06b-37c501a5d334",
        "colab": {
          "base_uri": "https://localhost:8080/",
          "height": 329
        }
      },
      "source": [
        "score = model.evaluate(X_test, y_test, verbose=0) \n",
        "print('Test score:', score[0]) \n",
        "print('Test accuracy:', score[1])\n",
        "\n",
        "fig,ax = plt.subplots(1,1)\n",
        "ax.set_title('Epoch vs Loss')\n",
        "ax.set_xlabel('epoch') ; ax.set_ylabel('Categorical Crossentropy Loss')\n",
        "\n",
        "# list of epoch numbers\n",
        "x = list(range(1,epochs+1))\n",
        "\n",
        "\n",
        "vy = history.history['val_loss']\n",
        "ty = history.history['loss']\n",
        "plt_dynamic(x, vy, ty, ax)"
      ],
      "execution_count": 0,
      "outputs": [
        {
          "output_type": "stream",
          "text": [
            "Test score: 0.03929063466354273\n",
            "Test accuracy: 0.9873\n"
          ],
          "name": "stdout"
        },
        {
          "output_type": "display_data",
          "data": {
            "image/png": "[encoded data removed]",
            "text/plain": [
              "<Figure size 432x288 with 1 Axes>"
            ]
          },
          "metadata": {
            "tags": []
          }
        }
      ]
    },
    {
      "cell_type": "markdown",
      "metadata": {
        "colab_type": "text",
        "id": "kj63DNBNqb7h"
      },
      "source": [
        "### WITHOUT DROPOUT"
      ]
    },
    {
      "cell_type": "code",
      "metadata": {
        "colab_type": "code",
        "id": "QXtSK7XSqb7h",
        "outputId": "efd4f2bf-beff-4665-ac22-1ab9762bf693",
        "colab": {
          "base_uri": "https://localhost:8080/",
          "height": 689
        }
      },
      "source": [
        "model=Sequential()\n",
        "#Adding first layer\n",
        "model.add(Conv2D(64, kernel_size=(3, 3),activation='sigmoid',input_shape=input_shape))\n",
        "model.add(MaxPooling2D(pool_size=(1, 1)))\n",
        "\n",
        "#Second layer\n",
        "model.add(Conv2D(64, kernel_size=(3, 3), activation='sigmoid'))\n",
        "model.add(MaxPooling2D(pool_size=(2,2)))\n",
        "\n",
        "#third layer\n",
        "model.add(Conv2D(32, kernel_size=(3, 3), activation='sigmoid'))\n",
        "model.add(BatchNormalization(axis=1))\n",
        "model.add(MaxPooling2D(pool_size=(1,1)))\n",
        "\n",
        "#Fourth Layer\n",
        "model.add(Conv2D(32,kernel_size=(2,2),activation='sigmoid'))\n",
        "model.add(BatchNormalization(axis=1))\n",
        "model.add(MaxPooling2D(pool_size=(2,2)))\n",
        "\n",
        "#Fifth Layer\n",
        "model.add(Conv2D(16,kernel_size=(2,2),activation='sigmoid'))\n",
        "model.add(MaxPooling2D(pool_size=(2,2)))\n",
        "\n",
        "\n",
        "#Fully Connected layer\n",
        "#Flattening\n",
        "model.add(Flatten())\n",
        "model.add(Dense(512))\n",
        "model.add(Activation('sigmoid'))\n",
        "\n",
        "#Softmax\n",
        "model.add(Dense(num_classes, activation='softmax'))\n",
        "model.summary()"
      ],
      "execution_count": 0,
      "outputs": [
        {
          "output_type": "stream",
          "text": [
            "Model: \"sequential_18\"\n",
            "_________________________________________________________________\n",
            "Layer (type)                 Output Shape              Param #   \n",
            "=================================================================\n",
            "conv2d_62 (Conv2D)           (None, 26, 26, 64)        640       \n",
            "_________________________________________________________________\n",
            "max_pooling2d_62 (MaxPooling (None, 26, 26, 64)        0         \n",
            "_________________________________________________________________\n",
            "conv2d_63 (Conv2D)           (None, 24, 24, 64)        36928     \n",
            "_________________________________________________________________\n",
            "max_pooling2d_63 (MaxPooling (None, 12, 12, 64)        0         \n",
            "_________________________________________________________________\n",
            "conv2d_64 (Conv2D)           (None, 10, 10, 32)        18464     \n",
            "_________________________________________________________________\n",
            "batch_normalization_14 (Batc (None, 10, 10, 32)        40        \n",
            "_________________________________________________________________\n",
            "max_pooling2d_64 (MaxPooling (None, 10, 10, 32)        0         \n",
            "_________________________________________________________________\n",
            "conv2d_65 (Conv2D)           (None, 9, 9, 32)          4128      \n",
            "_________________________________________________________________\n",
            "batch_normalization_15 (Batc (None, 9, 9, 32)          36        \n",
            "_________________________________________________________________\n",
            "max_pooling2d_65 (MaxPooling (None, 4, 4, 32)          0         \n",
            "_________________________________________________________________\n",
            "conv2d_66 (Conv2D)           (None, 3, 3, 16)          2064      \n",
            "_________________________________________________________________\n",
            "max_pooling2d_66 (MaxPooling (None, 1, 1, 16)          0         \n",
            "_________________________________________________________________\n",
            "flatten_18 (Flatten)         (None, 16)                0         \n",
            "_________________________________________________________________\n",
            "dense_35 (Dense)             (None, 512)               8704      \n",
            "_________________________________________________________________\n",
            "activation_18 (Activation)   (None, 512)               0         \n",
            "_________________________________________________________________\n",
            "dense_36 (Dense)             (None, 10)                5130      \n",
            "=================================================================\n",
            "Total params: 76,134\n",
            "Trainable params: 76,096\n",
            "Non-trainable params: 38\n",
            "_________________________________________________________________\n"
          ],
          "name": "stdout"
        }
      ]
    },
    {
      "cell_type": "code",
      "metadata": {
        "colab_type": "code",
        "id": "kz_NB0e_qb7i",
        "outputId": "77bb9b3d-c8dd-48c4-e5e8-651ef79a6752",
        "colab": {
          "base_uri": "https://localhost:8080/",
          "height": 457
        }
      },
      "source": [
        "#Compiling with Cross-entropy-loss and Adam Optimizer taking Accuracy as a metric\n",
        "from keras.optimizers import Adam\n",
        "model.compile(loss='categorical_crossentropy', optimizer=Adam(), metrics=['accuracy'])\n",
        "history=model.fit(X_train, y_train,batch_size=batch_size,epochs=epochs,verbose=1,validation_data=(X_test, y_test))"
      ],
      "execution_count": 0,
      "outputs": [
        {
          "output_type": "stream",
          "text": [
            "Train on 60000 samples, validate on 10000 samples\n",
            "Epoch 1/12\n",
            "60000/60000 [==============================] - 10s 161us/step - loss: 2.1318 - acc: 0.2149 - val_loss: 1.2405 - val_acc: 0.6568\n",
            "Epoch 2/12\n",
            "60000/60000 [==============================] - 7s 111us/step - loss: 0.3614 - acc: 0.9150 - val_loss: 0.2074 - val_acc: 0.9415\n",
            "Epoch 3/12\n",
            "60000/60000 [==============================] - 7s 112us/step - loss: 0.1606 - acc: 0.9553 - val_loss: 0.1580 - val_acc: 0.9537\n",
            "Epoch 4/12\n",
            "60000/60000 [==============================] - 7s 112us/step - loss: 0.1218 - acc: 0.9644 - val_loss: 0.1252 - val_acc: 0.9613\n",
            "Epoch 5/12\n",
            "60000/60000 [==============================] - 7s 113us/step - loss: 0.1055 - acc: 0.9693 - val_loss: 0.1071 - val_acc: 0.9662\n",
            "Epoch 6/12\n",
            "60000/60000 [==============================] - 7s 114us/step - loss: 0.0901 - acc: 0.9735 - val_loss: 0.1035 - val_acc: 0.9685\n",
            "Epoch 7/12\n",
            "60000/60000 [==============================] - 7s 112us/step - loss: 0.0819 - acc: 0.9754 - val_loss: 0.0876 - val_acc: 0.9721\n",
            "Epoch 8/12\n",
            "60000/60000 [==============================] - 7s 111us/step - loss: 0.0738 - acc: 0.9769 - val_loss: 0.0764 - val_acc: 0.9763\n",
            "Epoch 9/12\n",
            "60000/60000 [==============================] - 7s 112us/step - loss: 0.0682 - acc: 0.9799 - val_loss: 0.0794 - val_acc: 0.9772\n",
            "Epoch 10/12\n",
            "60000/60000 [==============================] - 7s 111us/step - loss: 0.0624 - acc: 0.9812 - val_loss: 0.0803 - val_acc: 0.9756\n",
            "Epoch 11/12\n",
            "60000/60000 [==============================] - 7s 111us/step - loss: 0.0593 - acc: 0.9822 - val_loss: 0.0753 - val_acc: 0.9780\n",
            "Epoch 12/12\n",
            "60000/60000 [==============================] - 7s 110us/step - loss: 0.0558 - acc: 0.9832 - val_loss: 0.0719 - val_acc: 0.9779\n"
          ],
          "name": "stdout"
        }
      ]
    },
    {
      "cell_type": "code",
      "metadata": {
        "colab_type": "code",
        "id": "f4WEAN7Fqb7j",
        "colab": {}
      },
      "source": [
        "import matplotlib.pyplot as plt\n",
        "import numpy as np\n",
        "\n",
        "def plt_dynamic(x, vy, ty, ax, colors=['b']):\n",
        "    ax.plot(x, vy, 'b', label=\"Validation Loss\")\n",
        "    ax.plot(x, ty, 'r', label=\"Train Loss\")\n",
        "    plt.legend()\n",
        "    plt.grid()\n",
        "    fig.canvas.draw()"
      ],
      "execution_count": 0,
      "outputs": []
    },
    {
      "cell_type": "code",
      "metadata": {
        "colab_type": "code",
        "id": "EYdvPNYXqb7l",
        "outputId": "a3f568bc-2d4c-45dc-ac7c-e540da2ef273",
        "colab": {
          "base_uri": "https://localhost:8080/",
          "height": 329
        }
      },
      "source": [
        "score = model.evaluate(X_test, y_test, verbose=0) \n",
        "print('Test score:', score[0]) \n",
        "print('Test accuracy:', score[1])\n",
        "\n",
        "fig,ax = plt.subplots(1,1)\n",
        "ax.set_title('Epoch vs Loss')\n",
        "ax.set_xlabel('epoch') ; ax.set_ylabel('Categorical Crossentropy Loss')\n",
        "\n",
        "# list of epoch numbers\n",
        "x = list(range(1,epochs+1))\n",
        "\n",
        "\n",
        "vy = history.history['val_loss']\n",
        "ty = history.history['loss']\n",
        "plt_dynamic(x, vy, ty, ax)"
      ],
      "execution_count": 0,
      "outputs": [
        {
          "output_type": "stream",
          "text": [
            "Test score: 0.07189704030742869\n",
            "Test accuracy: 0.9779\n"
          ],
          "name": "stdout"
        },
        {
          "output_type": "display_data",
          "data": {
            "image/png": "[encoded data removed]",
            "text/plain": [
              "<Figure size 432x288 with 1 Axes>"
            ]
          },
          "metadata": {
            "tags": []
          }
        }
      ]
    },
    {
      "cell_type": "code",
      "metadata": {
        "colab_type": "code",
        "id": "CUuS1kP0qb7n",
        "colab": {}
      },
      "source": [
        ""
      ],
      "execution_count": 0,
      "outputs": []
    },
    {
      "cell_type": "markdown",
      "metadata": {
        "colab_type": "text",
        "id": "zswdtGECmWY5"
      },
      "source": [
        "### CNN WITH 6 LAYERS ASA RELU ACTIVATION FUNCTION"
      ]
    },
    {
      "cell_type": "markdown",
      "metadata": {
        "colab_type": "text",
        "id": "4QVntOqmqb7r"
      },
      "source": [
        "### BN+ DROPOUT"
      ]
    },
    {
      "cell_type": "code",
      "metadata": {
        "colab_type": "code",
        "id": "5mKsKDwfTLL_",
        "outputId": "dbe60209-e6ad-47dc-e6a6-39f823c29f4c",
        "colab": {
          "base_uri": "https://localhost:8080/",
          "height": 890
        }
      },
      "source": [
        "model=Sequential()\n",
        "#Adding first layer\n",
        "model.add(Conv2D(64, kernel_size=(5, 5),activation='relu',input_shape=input_shape))\n",
        "model.add(MaxPooling2D(pool_size=(1, 1)))\n",
        "\n",
        "#Adding Second Layer\n",
        "model.add(Conv2D(64,kernel_size=(3,3),activation='relu'))\n",
        "model.add(BatchNormalization(axis=1))\n",
        "model.add(MaxPooling2D(pool_size=(2,2)))\n",
        "\n",
        "#Adding Third Layer\n",
        "model.add(Conv2D(32,kernel_size=(3,3),activation='relu'))\n",
        "model.add(Dropout(0.5))\n",
        "model.add(MaxPooling2D(pool_size=(1,1)))\n",
        "\n",
        "#Fourth layer\n",
        "model.add(Conv2D(32, kernel_size=(3, 3), activation='relu'))\n",
        "model.add(Dropout(0.25))\n",
        "model.add(MaxPooling2D(pool_size=(1,1)))\n",
        "\n",
        "#Fifth layer\n",
        "model.add(Conv2D(16, kernel_size=(2, 2), activation='relu'))\n",
        "model.add(BatchNormalization(axis=1))\n",
        "model.add(MaxPooling2D(pool_size=(1,1)))\n",
        "\n",
        "#Sixth Layer\n",
        "model.add(Conv2D(16,kernel_size=(2,2),activation='relu'))\n",
        "model.add(BatchNormalization(axis=1))\n",
        "model.add(MaxPooling2D(pool_size=(1,1)))\n",
        "\n",
        "\n",
        "\n",
        "#Fully Connected layer\n",
        "#Flattening\n",
        "model.add(Flatten())\n",
        "model.add(Dense(128))\n",
        "model.add(Activation('relu'))\n",
        "model.add(Dropout(0.5))\n",
        "\n",
        "#Softmax\n",
        "model.add(Dense(num_classes, activation='softmax'))\n",
        "model.summary()"
      ],
      "execution_count": 0,
      "outputs": [
        {
          "output_type": "stream",
          "text": [
            "Model: \"sequential_19\"\n",
            "_________________________________________________________________\n",
            "Layer (type)                 Output Shape              Param #   \n",
            "=================================================================\n",
            "conv2d_67 (Conv2D)           (None, 24, 24, 64)        1664      \n",
            "_________________________________________________________________\n",
            "max_pooling2d_67 (MaxPooling (None, 24, 24, 64)        0         \n",
            "_________________________________________________________________\n",
            "conv2d_68 (Conv2D)           (None, 22, 22, 64)        36928     \n",
            "_________________________________________________________________\n",
            "batch_normalization_16 (Batc (None, 22, 22, 64)        88        \n",
            "_________________________________________________________________\n",
            "max_pooling2d_68 (MaxPooling (None, 11, 11, 64)        0         \n",
            "_________________________________________________________________\n",
            "conv2d_69 (Conv2D)           (None, 9, 9, 32)          18464     \n",
            "_________________________________________________________________\n",
            "dropout_22 (Dropout)         (None, 9, 9, 32)          0         \n",
            "_________________________________________________________________\n",
            "max_pooling2d_69 (MaxPooling (None, 9, 9, 32)          0         \n",
            "_________________________________________________________________\n",
            "conv2d_70 (Conv2D)           (None, 7, 7, 32)          9248      \n",
            "_________________________________________________________________\n",
            "dropout_23 (Dropout)         (None, 7, 7, 32)          0         \n",
            "_________________________________________________________________\n",
            "max_pooling2d_70 (MaxPooling (None, 7, 7, 32)          0         \n",
            "_________________________________________________________________\n",
            "conv2d_71 (Conv2D)           (None, 6, 6, 16)          2064      \n",
            "_________________________________________________________________\n",
            "batch_normalization_17 (Batc (None, 6, 6, 16)          24        \n",
            "_________________________________________________________________\n",
            "max_pooling2d_71 (MaxPooling (None, 6, 6, 16)          0         \n",
            "_________________________________________________________________\n",
            "conv2d_72 (Conv2D)           (None, 5, 5, 16)          1040      \n",
            "_________________________________________________________________\n",
            "batch_normalization_18 (Batc (None, 5, 5, 16)          20        \n",
            "_________________________________________________________________\n",
            "max_pooling2d_72 (MaxPooling (None, 5, 5, 16)          0         \n",
            "_________________________________________________________________\n",
            "flatten_19 (Flatten)         (None, 400)               0         \n",
            "_________________________________________________________________\n",
            "dense_37 (Dense)             (None, 128)               51328     \n",
            "_________________________________________________________________\n",
            "activation_19 (Activation)   (None, 128)               0         \n",
            "_________________________________________________________________\n",
            "dropout_24 (Dropout)         (None, 128)               0         \n",
            "_________________________________________________________________\n",
            "dense_38 (Dense)             (None, 10)                1290      \n",
            "=================================================================\n",
            "Total params: 122,158\n",
            "Trainable params: 122,092\n",
            "Non-trainable params: 66\n",
            "_________________________________________________________________\n"
          ],
          "name": "stdout"
        }
      ]
    },
    {
      "cell_type": "code",
      "metadata": {
        "colab_type": "code",
        "id": "eo_7q34iTutw",
        "outputId": "f6211c1b-794b-44f2-9dfd-ae1c8585629a",
        "colab": {
          "base_uri": "https://localhost:8080/",
          "height": 457
        }
      },
      "source": [
        "#Compiling with Cross-entropy-loss and Adam Optimizer taking Accuracy as a metric\n",
        "from keras.optimizers import Adam\n",
        "model.compile(loss='categorical_crossentropy', optimizer=Adam(), metrics=['accuracy'])\n",
        "history=model.fit(X_train, y_train,batch_size=batch_size,epochs=epochs,verbose=1,validation_data=(X_test, y_test))"
      ],
      "execution_count": 0,
      "outputs": [
        {
          "output_type": "stream",
          "text": [
            "Train on 60000 samples, validate on 10000 samples\n",
            "Epoch 1/12\n",
            "60000/60000 [==============================] - 11s 187us/step - loss: 0.4371 - acc: 0.8586 - val_loss: 0.0679 - val_acc: 0.9780\n",
            "Epoch 2/12\n",
            "60000/60000 [==============================] - 8s 126us/step - loss: 0.1180 - acc: 0.9648 - val_loss: 0.0482 - val_acc: 0.9842\n",
            "Epoch 3/12\n",
            "60000/60000 [==============================] - 8s 125us/step - loss: 0.0846 - acc: 0.9754 - val_loss: 0.0401 - val_acc: 0.9874\n",
            "Epoch 4/12\n",
            "60000/60000 [==============================] - 8s 126us/step - loss: 0.0733 - acc: 0.9791 - val_loss: 0.0354 - val_acc: 0.9898\n",
            "Epoch 5/12\n",
            "60000/60000 [==============================] - 8s 125us/step - loss: 0.0636 - acc: 0.9815 - val_loss: 0.0306 - val_acc: 0.9908\n",
            "Epoch 6/12\n",
            "60000/60000 [==============================] - 8s 126us/step - loss: 0.0569 - acc: 0.9835 - val_loss: 0.0329 - val_acc: 0.9898\n",
            "Epoch 7/12\n",
            "60000/60000 [==============================] - 8s 126us/step - loss: 0.0517 - acc: 0.9850 - val_loss: 0.0292 - val_acc: 0.9921\n",
            "Epoch 8/12\n",
            "60000/60000 [==============================] - 7s 125us/step - loss: 0.0486 - acc: 0.9861 - val_loss: 0.0253 - val_acc: 0.9912\n",
            "Epoch 9/12\n",
            "60000/60000 [==============================] - 8s 125us/step - loss: 0.0461 - acc: 0.9863 - val_loss: 0.0271 - val_acc: 0.9929\n",
            "Epoch 10/12\n",
            "60000/60000 [==============================] - 8s 125us/step - loss: 0.0411 - acc: 0.9876 - val_loss: 0.0303 - val_acc: 0.9910\n",
            "Epoch 11/12\n",
            "60000/60000 [==============================] - 8s 125us/step - loss: 0.0392 - acc: 0.9881 - val_loss: 0.0321 - val_acc: 0.9904\n",
            "Epoch 12/12\n",
            "60000/60000 [==============================] - 8s 125us/step - loss: 0.0389 - acc: 0.9883 - val_loss: 0.0251 - val_acc: 0.9928\n"
          ],
          "name": "stdout"
        }
      ]
    },
    {
      "cell_type": "code",
      "metadata": {
        "colab_type": "code",
        "id": "SihLwMX7XYkL",
        "colab": {}
      },
      "source": [
        "import matplotlib.pyplot as plt\n",
        "import numpy as np\n",
        "\n",
        "def plt_dynamic(x, vy, ty, ax, colors=['b']):\n",
        "    ax.plot(x, vy, 'b', label=\"Validation Loss\")\n",
        "    ax.plot(x, ty, 'r', label=\"Train Loss\")\n",
        "    plt.legend()\n",
        "    plt.grid()\n",
        "    fig.canvas.draw()"
      ],
      "execution_count": 0,
      "outputs": []
    },
    {
      "cell_type": "code",
      "metadata": {
        "colab_type": "code",
        "id": "lkzyrqNpXbyt",
        "outputId": "74c89db6-b644-4d33-85e2-cb335cb8ca7b",
        "colab": {
          "base_uri": "https://localhost:8080/",
          "height": 329
        }
      },
      "source": [
        "score = model.evaluate(X_test, y_test, verbose=0) \n",
        "print('Test score:', score[0]) \n",
        "print('Test accuracy:', score[1])\n",
        "\n",
        "fig,ax = plt.subplots(1,1)\n",
        "ax.set_title('Epoch vs Loss')\n",
        "ax.set_xlabel('epoch') ; ax.set_ylabel('Categorical Crossentropy Loss')\n",
        "\n",
        "# list of epoch numbers\n",
        "x = list(range(1,epochs+1))\n",
        "\n",
        "\n",
        "vy = history.history['val_loss']\n",
        "ty = history.history['loss']\n",
        "plt_dynamic(x, vy, ty, ax)\n"
      ],
      "execution_count": 0,
      "outputs": [
        {
          "output_type": "stream",
          "text": [
            "Test score: 0.02512707673313598\n",
            "Test accuracy: 0.9928\n"
          ],
          "name": "stdout"
        },
        {
          "output_type": "display_data",
          "data": {
            "image/png": "[encoded data removed]",
            "text/plain": [
              "<Figure size 432x288 with 1 Axes>"
            ]
          },
          "metadata": {
            "tags": []
          }
        }
      ]
    },
    {
      "cell_type": "markdown",
      "metadata": {
        "colab_type": "text",
        "id": "E_XnJVemqb7z"
      },
      "source": [
        "### WITHOUT BN"
      ]
    },
    {
      "cell_type": "code",
      "metadata": {
        "colab_type": "code",
        "id": "YAJqiOotqb70",
        "outputId": "decaa411-4356-476f-8713-bd3f9a189d40",
        "colab": {
          "base_uri": "https://localhost:8080/",
          "height": 790
        }
      },
      "source": [
        "model=Sequential()\n",
        "#Adding first layer\n",
        "model.add(Conv2D(64, kernel_size=(5, 5),activation='relu',input_shape=input_shape))\n",
        "model.add(MaxPooling2D(pool_size=(1, 1)))\n",
        "\n",
        "#Adding Second Layer\n",
        "model.add(Conv2D(64,kernel_size=(3,3),activation='relu'))\n",
        "model.add(MaxPooling2D(pool_size=(2,2)))\n",
        "\n",
        "#Adding Third Layer\n",
        "model.add(Conv2D(32,kernel_size=(3,3),activation='relu'))\n",
        "model.add(Dropout(0.5))\n",
        "model.add(MaxPooling2D(pool_size=(1,1)))\n",
        "\n",
        "#Fourth layer\n",
        "model.add(Conv2D(32, kernel_size=(3, 3), activation='relu'))\n",
        "model.add(Dropout(0.25))\n",
        "model.add(MaxPooling2D(pool_size=(1,1)))\n",
        "\n",
        "#Fifth layer\n",
        "model.add(Conv2D(16, kernel_size=(2, 2), activation='relu'))\n",
        "model.add(MaxPooling2D(pool_size=(1,1)))\n",
        "\n",
        "#Sixth Layer\n",
        "model.add(Conv2D(16,kernel_size=(2,2),activation='relu'))\n",
        "model.add(MaxPooling2D(pool_size=(1,1)))\n",
        "\n",
        "\n",
        "\n",
        "#Fully Connected layer\n",
        "#Flattening\n",
        "model.add(Flatten())\n",
        "model.add(Dense(128))\n",
        "model.add(Activation('relu'))\n",
        "model.add(Dropout(0.5))\n",
        "\n",
        "#Softmax\n",
        "model.add(Dense(num_classes, activation='softmax'))\n",
        "model.summary()"
      ],
      "execution_count": 0,
      "outputs": [
        {
          "output_type": "stream",
          "text": [
            "Model: \"sequential_20\"\n",
            "_________________________________________________________________\n",
            "Layer (type)                 Output Shape              Param #   \n",
            "=================================================================\n",
            "conv2d_73 (Conv2D)           (None, 24, 24, 64)        1664      \n",
            "_________________________________________________________________\n",
            "max_pooling2d_73 (MaxPooling (None, 24, 24, 64)        0         \n",
            "_________________________________________________________________\n",
            "conv2d_74 (Conv2D)           (None, 22, 22, 64)        36928     \n",
            "_________________________________________________________________\n",
            "max_pooling2d_74 (MaxPooling (None, 11, 11, 64)        0         \n",
            "_________________________________________________________________\n",
            "conv2d_75 (Conv2D)           (None, 9, 9, 32)          18464     \n",
            "_________________________________________________________________\n",
            "dropout_25 (Dropout)         (None, 9, 9, 32)          0         \n",
            "_________________________________________________________________\n",
            "max_pooling2d_75 (MaxPooling (None, 9, 9, 32)          0         \n",
            "_________________________________________________________________\n",
            "conv2d_76 (Conv2D)           (None, 7, 7, 32)          9248      \n",
            "_________________________________________________________________\n",
            "dropout_26 (Dropout)         (None, 7, 7, 32)          0         \n",
            "_________________________________________________________________\n",
            "max_pooling2d_76 (MaxPooling (None, 7, 7, 32)          0         \n",
            "_________________________________________________________________\n",
            "conv2d_77 (Conv2D)           (None, 6, 6, 16)          2064      \n",
            "_________________________________________________________________\n",
            "max_pooling2d_77 (MaxPooling (None, 6, 6, 16)          0         \n",
            "_________________________________________________________________\n",
            "conv2d_78 (Conv2D)           (None, 5, 5, 16)          1040      \n",
            "_________________________________________________________________\n",
            "max_pooling2d_78 (MaxPooling (None, 5, 5, 16)          0         \n",
            "_________________________________________________________________\n",
            "flatten_20 (Flatten)         (None, 400)               0         \n",
            "_________________________________________________________________\n",
            "dense_39 (Dense)             (None, 128)               51328     \n",
            "_________________________________________________________________\n",
            "activation_20 (Activation)   (None, 128)               0         \n",
            "_________________________________________________________________\n",
            "dropout_27 (Dropout)         (None, 128)               0         \n",
            "_________________________________________________________________\n",
            "dense_40 (Dense)             (None, 10)                1290      \n",
            "=================================================================\n",
            "Total params: 122,026\n",
            "Trainable params: 122,026\n",
            "Non-trainable params: 0\n",
            "_________________________________________________________________\n"
          ],
          "name": "stdout"
        }
      ]
    },
    {
      "cell_type": "code",
      "metadata": {
        "colab_type": "code",
        "id": "ilCB6YeUqb71",
        "outputId": "1d81c68a-0dce-4665-8db1-79b607c7c78b",
        "colab": {
          "base_uri": "https://localhost:8080/",
          "height": 457
        }
      },
      "source": [
        "#Compiling with Cross-entropy-loss and Adam Optimizer taking Accuracy as a metric\n",
        "from keras.optimizers import Adam\n",
        "model.compile(loss='categorical_crossentropy', optimizer=Adam(), metrics=['accuracy'])\n",
        "history=model.fit(X_train, y_train,batch_size=batch_size,epochs=epochs,verbose=1,validation_data=(X_test, y_test))"
      ],
      "execution_count": 0,
      "outputs": [
        {
          "output_type": "stream",
          "text": [
            "Train on 60000 samples, validate on 10000 samples\n",
            "Epoch 1/12\n",
            "60000/60000 [==============================] - 10s 163us/step - loss: 0.4735 - acc: 0.8461 - val_loss: 0.0686 - val_acc: 0.9783\n",
            "Epoch 2/12\n",
            "60000/60000 [==============================] - 6s 101us/step - loss: 0.1209 - acc: 0.9649 - val_loss: 0.0562 - val_acc: 0.9824\n",
            "Epoch 3/12\n",
            "60000/60000 [==============================] - 6s 102us/step - loss: 0.0902 - acc: 0.9741 - val_loss: 0.0354 - val_acc: 0.9882\n",
            "Epoch 4/12\n",
            "60000/60000 [==============================] - 6s 102us/step - loss: 0.0776 - acc: 0.9775 - val_loss: 0.0365 - val_acc: 0.9887\n",
            "Epoch 5/12\n",
            "60000/60000 [==============================] - 6s 102us/step - loss: 0.0682 - acc: 0.9804 - val_loss: 0.0372 - val_acc: 0.9887\n",
            "Epoch 6/12\n",
            "60000/60000 [==============================] - 6s 102us/step - loss: 0.0606 - acc: 0.9826 - val_loss: 0.0269 - val_acc: 0.9913\n",
            "Epoch 7/12\n",
            "60000/60000 [==============================] - 6s 103us/step - loss: 0.0560 - acc: 0.9841 - val_loss: 0.0228 - val_acc: 0.9936\n",
            "Epoch 8/12\n",
            "60000/60000 [==============================] - 6s 103us/step - loss: 0.0509 - acc: 0.9853 - val_loss: 0.0297 - val_acc: 0.9912\n",
            "Epoch 9/12\n",
            "60000/60000 [==============================] - 6s 102us/step - loss: 0.0495 - acc: 0.9857 - val_loss: 0.0228 - val_acc: 0.9927\n",
            "Epoch 10/12\n",
            "60000/60000 [==============================] - 6s 103us/step - loss: 0.0469 - acc: 0.9862 - val_loss: 0.0225 - val_acc: 0.9931\n",
            "Epoch 11/12\n",
            "60000/60000 [==============================] - 6s 102us/step - loss: 0.0437 - acc: 0.9875 - val_loss: 0.0261 - val_acc: 0.9908\n",
            "Epoch 12/12\n",
            "60000/60000 [==============================] - 6s 102us/step - loss: 0.0416 - acc: 0.9886 - val_loss: 0.0234 - val_acc: 0.9930\n"
          ],
          "name": "stdout"
        }
      ]
    },
    {
      "cell_type": "code",
      "metadata": {
        "colab_type": "code",
        "id": "L0jDzeomqb72",
        "colab": {}
      },
      "source": [
        "import matplotlib.pyplot as plt\n",
        "import numpy as np\n",
        "\n",
        "def plt_dynamic(x, vy, ty, ax, colors=['b']):\n",
        "    ax.plot(x, vy, 'b', label=\"Validation Loss\")\n",
        "    ax.plot(x, ty, 'r', label=\"Train Loss\")\n",
        "    plt.legend()\n",
        "    plt.grid()\n",
        "    fig.canvas.draw()"
      ],
      "execution_count": 0,
      "outputs": []
    },
    {
      "cell_type": "code",
      "metadata": {
        "colab_type": "code",
        "id": "V24Eg0t3qb76",
        "outputId": "1dc4f963-5621-493c-9f37-464c134e2581",
        "colab": {
          "base_uri": "https://localhost:8080/",
          "height": 329
        }
      },
      "source": [
        "score = model.evaluate(X_test, y_test, verbose=0) \n",
        "print('Test score:', score[0]) \n",
        "print('Test accuracy:', score[1])\n",
        "\n",
        "fig,ax = plt.subplots(1,1)\n",
        "ax.set_title('Epoch vs Loss')\n",
        "ax.set_xlabel('epoch') ; ax.set_ylabel('Categorical Crossentropy Loss')\n",
        "\n",
        "# list of epoch numbers\n",
        "x = list(range(1,epochs+1))\n",
        "\n",
        "\n",
        "vy = history.history['val_loss']\n",
        "ty = history.history['loss']\n",
        "plt_dynamic(x, vy, ty, ax)"
      ],
      "execution_count": 0,
      "outputs": [
        {
          "output_type": "stream",
          "text": [
            "Test score: 0.023400390856726152\n",
            "Test accuracy: 0.993\n"
          ],
          "name": "stdout"
        },
        {
          "output_type": "display_data",
          "data": {
            "image/png": "[encoded data removed]",
            "text/plain": [
              "<Figure size 432x288 with 1 Axes>"
            ]
          },
          "metadata": {
            "tags": []
          }
        }
      ]
    },
    {
      "cell_type": "markdown",
      "metadata": {
        "colab_type": "text",
        "id": "Mu6apn0jqb77"
      },
      "source": [
        "### WITHOUT DROPOUT"
      ]
    },
    {
      "cell_type": "code",
      "metadata": {
        "colab_type": "code",
        "id": "lEoYO0Wqqb77",
        "outputId": "959d842c-1d00-4220-dc92-801aa0aaeca7",
        "colab": {
          "base_uri": "https://localhost:8080/",
          "height": 790
        }
      },
      "source": [
        "model=Sequential()\n",
        "#Adding first layer\n",
        "model.add(Conv2D(64, kernel_size=(5, 5),activation='relu',input_shape=input_shape))\n",
        "model.add(MaxPooling2D(pool_size=(1, 1)))\n",
        "\n",
        "#Adding Second Layer\n",
        "model.add(Conv2D(64,kernel_size=(3,3),activation='relu'))\n",
        "model.add(BatchNormalization(axis=1))\n",
        "model.add(MaxPooling2D(pool_size=(2,2)))\n",
        "\n",
        "#Adding Third Layer\n",
        "model.add(Conv2D(32,kernel_size=(3,3),activation='relu'))\n",
        "model.add(MaxPooling2D(pool_size=(1,1)))\n",
        "\n",
        "#Fourth layer\n",
        "model.add(Conv2D(32, kernel_size=(3, 3), activation='relu'))\n",
        "model.add(MaxPooling2D(pool_size=(1,1)))\n",
        "\n",
        "#Fifth layer\n",
        "model.add(Conv2D(16, kernel_size=(2, 2), activation='relu'))\n",
        "model.add(BatchNormalization(axis=1))\n",
        "model.add(MaxPooling2D(pool_size=(1,1)))\n",
        "\n",
        "#Sixth Layer\n",
        "model.add(Conv2D(16,kernel_size=(2,2),activation='relu'))\n",
        "model.add(BatchNormalization(axis=1))\n",
        "model.add(MaxPooling2D(pool_size=(1,1)))\n",
        "\n",
        "\n",
        "\n",
        "#Fully Connected layer\n",
        "#Flattening\n",
        "model.add(Flatten())\n",
        "model.add(Dense(128))\n",
        "model.add(Activation('relu'))\n",
        "\n",
        "#Softmax\n",
        "model.add(Dense(num_classes, activation='softmax'))\n",
        "model.summary()"
      ],
      "execution_count": 0,
      "outputs": [
        {
          "output_type": "stream",
          "text": [
            "Model: \"sequential_21\"\n",
            "_________________________________________________________________\n",
            "Layer (type)                 Output Shape              Param #   \n",
            "=================================================================\n",
            "conv2d_79 (Conv2D)           (None, 24, 24, 64)        1664      \n",
            "_________________________________________________________________\n",
            "max_pooling2d_79 (MaxPooling (None, 24, 24, 64)        0         \n",
            "_________________________________________________________________\n",
            "conv2d_80 (Conv2D)           (None, 22, 22, 64)        36928     \n",
            "_________________________________________________________________\n",
            "batch_normalization_19 (Batc (None, 22, 22, 64)        88        \n",
            "_________________________________________________________________\n",
            "max_pooling2d_80 (MaxPooling (None, 11, 11, 64)        0         \n",
            "_________________________________________________________________\n",
            "conv2d_81 (Conv2D)           (None, 9, 9, 32)          18464     \n",
            "_________________________________________________________________\n",
            "max_pooling2d_81 (MaxPooling (None, 9, 9, 32)          0         \n",
            "_________________________________________________________________\n",
            "conv2d_82 (Conv2D)           (None, 7, 7, 32)          9248      \n",
            "_________________________________________________________________\n",
            "max_pooling2d_82 (MaxPooling (None, 7, 7, 32)          0         \n",
            "_________________________________________________________________\n",
            "conv2d_83 (Conv2D)           (None, 6, 6, 16)          2064      \n",
            "_________________________________________________________________\n",
            "batch_normalization_20 (Batc (None, 6, 6, 16)          24        \n",
            "_________________________________________________________________\n",
            "max_pooling2d_83 (MaxPooling (None, 6, 6, 16)          0         \n",
            "_________________________________________________________________\n",
            "conv2d_84 (Conv2D)           (None, 5, 5, 16)          1040      \n",
            "_________________________________________________________________\n",
            "batch_normalization_21 (Batc (None, 5, 5, 16)          20        \n",
            "_________________________________________________________________\n",
            "max_pooling2d_84 (MaxPooling (None, 5, 5, 16)          0         \n",
            "_________________________________________________________________\n",
            "flatten_21 (Flatten)         (None, 400)               0         \n",
            "_________________________________________________________________\n",
            "dense_41 (Dense)             (None, 128)               51328     \n",
            "_________________________________________________________________\n",
            "activation_21 (Activation)   (None, 128)               0         \n",
            "_________________________________________________________________\n",
            "dense_42 (Dense)             (None, 10)                1290      \n",
            "=================================================================\n",
            "Total params: 122,158\n",
            "Trainable params: 122,092\n",
            "Non-trainable params: 66\n",
            "_________________________________________________________________\n"
          ],
          "name": "stdout"
        }
      ]
    },
    {
      "cell_type": "code",
      "metadata": {
        "colab_type": "code",
        "id": "Om2fIqRgqb78",
        "outputId": "635e0f98-8d7e-4fb7-eefe-037be2e995a3",
        "colab": {
          "base_uri": "https://localhost:8080/",
          "height": 457
        }
      },
      "source": [
        "#Compiling with Cross-entropy-loss and Adam Optimizer taking Accuracy as a metric\n",
        "from keras.optimizers import Adam\n",
        "model.compile(loss='categorical_crossentropy', optimizer=Adam(), metrics=['accuracy'])\n",
        "history=model.fit(X_train, y_train,batch_size=batch_size,epochs=epochs,verbose=1,validation_data=(X_test, y_test))"
      ],
      "execution_count": 0,
      "outputs": [
        {
          "output_type": "stream",
          "text": [
            "Train on 60000 samples, validate on 10000 samples\n",
            "Epoch 1/12\n",
            "60000/60000 [==============================] - 11s 190us/step - loss: 0.1640 - acc: 0.9496 - val_loss: 0.0522 - val_acc: 0.9842\n",
            "Epoch 2/12\n",
            "60000/60000 [==============================] - 7s 122us/step - loss: 0.0480 - acc: 0.9852 - val_loss: 0.0370 - val_acc: 0.9874\n",
            "Epoch 3/12\n",
            "60000/60000 [==============================] - 7s 122us/step - loss: 0.0364 - acc: 0.9884 - val_loss: 0.0359 - val_acc: 0.9885\n",
            "Epoch 4/12\n",
            "60000/60000 [==============================] - 7s 122us/step - loss: 0.0263 - acc: 0.9915 - val_loss: 0.0320 - val_acc: 0.9901\n",
            "Epoch 5/12\n",
            "60000/60000 [==============================] - 7s 121us/step - loss: 0.0229 - acc: 0.9923 - val_loss: 0.0337 - val_acc: 0.9897\n",
            "Epoch 6/12\n",
            "60000/60000 [==============================] - 7s 123us/step - loss: 0.0186 - acc: 0.9938 - val_loss: 0.0362 - val_acc: 0.9897\n",
            "Epoch 7/12\n",
            "60000/60000 [==============================] - 7s 122us/step - loss: 0.0176 - acc: 0.9941 - val_loss: 0.0360 - val_acc: 0.9892\n",
            "Epoch 8/12\n",
            "60000/60000 [==============================] - 7s 122us/step - loss: 0.0162 - acc: 0.9948 - val_loss: 0.0356 - val_acc: 0.9894\n",
            "Epoch 9/12\n",
            "60000/60000 [==============================] - 7s 122us/step - loss: 0.0143 - acc: 0.9954 - val_loss: 0.0537 - val_acc: 0.9850\n",
            "Epoch 10/12\n",
            "60000/60000 [==============================] - 7s 122us/step - loss: 0.0124 - acc: 0.9958 - val_loss: 0.0410 - val_acc: 0.9887\n",
            "Epoch 11/12\n",
            "60000/60000 [==============================] - 7s 123us/step - loss: 0.0085 - acc: 0.9973 - val_loss: 0.0272 - val_acc: 0.9923\n",
            "Epoch 12/12\n",
            "60000/60000 [==============================] - 7s 122us/step - loss: 0.0099 - acc: 0.9968 - val_loss: 0.0380 - val_acc: 0.9888\n"
          ],
          "name": "stdout"
        }
      ]
    },
    {
      "cell_type": "code",
      "metadata": {
        "colab_type": "code",
        "id": "c-jnZdXPqb7-",
        "colab": {}
      },
      "source": [
        "import matplotlib.pyplot as plt\n",
        "import numpy as np\n",
        "\n",
        "def plt_dynamic(x, vy, ty, ax, colors=['b']):\n",
        "    ax.plot(x, vy, 'b', label=\"Validation Loss\")\n",
        "    ax.plot(x, ty, 'r', label=\"Train Loss\")\n",
        "    plt.legend()\n",
        "    plt.grid()\n",
        "    fig.canvas.draw()"
      ],
      "execution_count": 0,
      "outputs": []
    },
    {
      "cell_type": "code",
      "metadata": {
        "colab_type": "code",
        "id": "EWgnnTSaqb8A",
        "outputId": "2039f5f8-40bb-4004-8b7e-3baa425035e1",
        "colab": {
          "base_uri": "https://localhost:8080/",
          "height": 329
        }
      },
      "source": [
        "score = model.evaluate(X_test, y_test, verbose=0) \n",
        "print('Test score:', score[0]) \n",
        "print('Test accuracy:', score[1])\n",
        "\n",
        "fig,ax = plt.subplots(1,1)\n",
        "ax.set_title('Epoch vs Loss')\n",
        "ax.set_xlabel('epoch') ; ax.set_ylabel('Categorical Crossentropy Loss')\n",
        "\n",
        "# list of epoch numbers\n",
        "x = list(range(1,epochs+1))\n",
        "\n",
        "\n",
        "vy = history.history['val_loss']\n",
        "ty = history.history['loss']\n",
        "plt_dynamic(x, vy, ty, ax)"
      ],
      "execution_count": 0,
      "outputs": [
        {
          "output_type": "stream",
          "text": [
            "Test score: 0.038047944817450934\n",
            "Test accuracy: 0.9888\n"
          ],
          "name": "stdout"
        },
        {
          "output_type": "display_data",
          "data": {
            "image/png": "[encoded data removed]",
            "text/plain": [
              "<Figure size 432x288 with 1 Axes>"
            ]
          },
          "metadata": {
            "tags": []
          }
        }
      ]
    },
    {
      "cell_type": "markdown",
      "metadata": {
        "colab_type": "text",
        "id": "kd6UgNhyqb8B"
      },
      "source": [
        "### CNN WITH 6 LAYERS AS A SIGMOID ACTIVATION FUNCTION"
      ]
    },
    {
      "cell_type": "markdown",
      "metadata": {
        "colab_type": "text",
        "id": "X88q39lDqb8B"
      },
      "source": [
        "### BN+DROPOUT"
      ]
    },
    {
      "cell_type": "code",
      "metadata": {
        "colab_type": "code",
        "id": "REda_Yysqb8B",
        "outputId": "5458f23d-7f6b-4f58-904c-48ed00775677",
        "colab": {
          "base_uri": "https://localhost:8080/",
          "height": 890
        }
      },
      "source": [
        "model=Sequential()\n",
        "#Adding first layer\n",
        "model.add(Conv2D(64, kernel_size=(5, 5),activation='sigmoid',input_shape=input_shape))\n",
        "model.add(MaxPooling2D(pool_size=(1, 1)))\n",
        "\n",
        "#Adding Second Layer\n",
        "model.add(Conv2D(64,kernel_size=(3,3),activation='sigmoid'))\n",
        "model.add(BatchNormalization(axis=1))\n",
        "model.add(MaxPooling2D(pool_size=(2,2)))\n",
        "\n",
        "#Adding Third Layer\n",
        "model.add(Conv2D(32,kernel_size=(3,3),activation='sigmoid'))\n",
        "model.add(Dropout(0.5))\n",
        "model.add(MaxPooling2D(pool_size=(1,1)))\n",
        "\n",
        "#Fourth layer\n",
        "model.add(Conv2D(32, kernel_size=(3, 3), activation='sigmoid'))\n",
        "model.add(Dropout(0.25))\n",
        "model.add(MaxPooling2D(pool_size=(1,1)))\n",
        "\n",
        "#Fifth layer\n",
        "model.add(Conv2D(16, kernel_size=(2, 2), activation='sigmoid'))\n",
        "model.add(BatchNormalization(axis=1))\n",
        "model.add(MaxPooling2D(pool_size=(1,1)))\n",
        "\n",
        "#Sixth Layer\n",
        "model.add(Conv2D(16,kernel_size=(2,2),activation='sigmoid'))\n",
        "model.add(BatchNormalization(axis=1))\n",
        "model.add(MaxPooling2D(pool_size=(1,1)))\n",
        "\n",
        "\n",
        "\n",
        "#Fully Connected layer\n",
        "#Flattening\n",
        "model.add(Flatten())\n",
        "model.add(Dense(128))\n",
        "model.add(Activation('sigmoid'))\n",
        "model.add(Dropout(0.5))\n",
        "\n",
        "#Softmax\n",
        "model.add(Dense(num_classes, activation='softmax'))\n",
        "model.summary()"
      ],
      "execution_count": 0,
      "outputs": [
        {
          "output_type": "stream",
          "text": [
            "Model: \"sequential_22\"\n",
            "_________________________________________________________________\n",
            "Layer (type)                 Output Shape              Param #   \n",
            "=================================================================\n",
            "conv2d_85 (Conv2D)           (None, 24, 24, 64)        1664      \n",
            "_________________________________________________________________\n",
            "max_pooling2d_85 (MaxPooling (None, 24, 24, 64)        0         \n",
            "_________________________________________________________________\n",
            "conv2d_86 (Conv2D)           (None, 22, 22, 64)        36928     \n",
            "_________________________________________________________________\n",
            "batch_normalization_22 (Batc (None, 22, 22, 64)        88        \n",
            "_________________________________________________________________\n",
            "max_pooling2d_86 (MaxPooling (None, 11, 11, 64)        0         \n",
            "_________________________________________________________________\n",
            "conv2d_87 (Conv2D)           (None, 9, 9, 32)          18464     \n",
            "_________________________________________________________________\n",
            "dropout_28 (Dropout)         (None, 9, 9, 32)          0         \n",
            "_________________________________________________________________\n",
            "max_pooling2d_87 (MaxPooling (None, 9, 9, 32)          0         \n",
            "_________________________________________________________________\n",
            "conv2d_88 (Conv2D)           (None, 7, 7, 32)          9248      \n",
            "_________________________________________________________________\n",
            "dropout_29 (Dropout)         (None, 7, 7, 32)          0         \n",
            "_________________________________________________________________\n",
            "max_pooling2d_88 (MaxPooling (None, 7, 7, 32)          0         \n",
            "_________________________________________________________________\n",
            "conv2d_89 (Conv2D)           (None, 6, 6, 16)          2064      \n",
            "_________________________________________________________________\n",
            "batch_normalization_23 (Batc (None, 6, 6, 16)          24        \n",
            "_________________________________________________________________\n",
            "max_pooling2d_89 (MaxPooling (None, 6, 6, 16)          0         \n",
            "_________________________________________________________________\n",
            "conv2d_90 (Conv2D)           (None, 5, 5, 16)          1040      \n",
            "_________________________________________________________________\n",
            "batch_normalization_24 (Batc (None, 5, 5, 16)          20        \n",
            "_________________________________________________________________\n",
            "max_pooling2d_90 (MaxPooling (None, 5, 5, 16)          0         \n",
            "_________________________________________________________________\n",
            "flatten_22 (Flatten)         (None, 400)               0         \n",
            "_________________________________________________________________\n",
            "dense_43 (Dense)             (None, 128)               51328     \n",
            "_________________________________________________________________\n",
            "activation_22 (Activation)   (None, 128)               0         \n",
            "_________________________________________________________________\n",
            "dropout_30 (Dropout)         (None, 128)               0         \n",
            "_________________________________________________________________\n",
            "dense_44 (Dense)             (None, 10)                1290      \n",
            "=================================================================\n",
            "Total params: 122,158\n",
            "Trainable params: 122,092\n",
            "Non-trainable params: 66\n",
            "_________________________________________________________________\n"
          ],
          "name": "stdout"
        }
      ]
    },
    {
      "cell_type": "code",
      "metadata": {
        "colab_type": "code",
        "id": "iYC1s608qb8C",
        "outputId": "5037c2f3-fbff-4eaa-b4d9-40a3d626138a",
        "colab": {
          "base_uri": "https://localhost:8080/",
          "height": 457
        }
      },
      "source": [
        "#Compiling with Cross-entropy-loss and Adam Optimizer taking Accuracy as a metric\n",
        "from keras.optimizers import Adam\n",
        "model.compile(loss='categorical_crossentropy', optimizer=Adam(), metrics=['accuracy'])\n",
        "history=model.fit(X_train, y_train,batch_size=batch_size,epochs=epochs,verbose=1,validation_data=(X_test, y_test))"
      ],
      "execution_count": 0,
      "outputs": [
        {
          "output_type": "stream",
          "text": [
            "Train on 60000 samples, validate on 10000 samples\n",
            "Epoch 1/12\n",
            "60000/60000 [==============================] - 12s 202us/step - loss: 2.3139 - acc: 0.1067 - val_loss: 2.3014 - val_acc: 0.1135\n",
            "Epoch 2/12\n",
            "60000/60000 [==============================] - 8s 130us/step - loss: 2.3016 - acc: 0.1123 - val_loss: 2.3010 - val_acc: 0.1135\n",
            "Epoch 3/12\n",
            "60000/60000 [==============================] - 8s 130us/step - loss: 1.0131 - acc: 0.6374 - val_loss: 0.1495 - val_acc: 0.9534\n",
            "Epoch 4/12\n",
            "60000/60000 [==============================] - 8s 133us/step - loss: 0.1797 - acc: 0.9486 - val_loss: 0.0766 - val_acc: 0.9760\n",
            "Epoch 5/12\n",
            "60000/60000 [==============================] - 8s 129us/step - loss: 0.1295 - acc: 0.9628 - val_loss: 0.0598 - val_acc: 0.9822\n",
            "Epoch 6/12\n",
            "60000/60000 [==============================] - 8s 127us/step - loss: 0.1069 - acc: 0.9695 - val_loss: 0.0509 - val_acc: 0.9846\n",
            "Epoch 7/12\n",
            "60000/60000 [==============================] - 8s 127us/step - loss: 0.0941 - acc: 0.9728 - val_loss: 0.0509 - val_acc: 0.9834\n",
            "Epoch 8/12\n",
            "60000/60000 [==============================] - 8s 127us/step - loss: 0.0831 - acc: 0.9754 - val_loss: 0.0474 - val_acc: 0.9850\n",
            "Epoch 9/12\n",
            "60000/60000 [==============================] - 8s 128us/step - loss: 0.0815 - acc: 0.9757 - val_loss: 0.0368 - val_acc: 0.9885\n",
            "Epoch 10/12\n",
            "60000/60000 [==============================] - 8s 127us/step - loss: 0.0750 - acc: 0.9783 - val_loss: 0.0349 - val_acc: 0.9889\n",
            "Epoch 11/12\n",
            "60000/60000 [==============================] - 8s 126us/step - loss: 0.0701 - acc: 0.9792 - val_loss: 0.0334 - val_acc: 0.9891\n",
            "Epoch 12/12\n",
            "60000/60000 [==============================] - 8s 126us/step - loss: 0.0661 - acc: 0.9805 - val_loss: 0.0380 - val_acc: 0.9876\n"
          ],
          "name": "stdout"
        }
      ]
    },
    {
      "cell_type": "code",
      "metadata": {
        "colab_type": "code",
        "id": "0CpEfIYVqb8E",
        "colab": {}
      },
      "source": [
        "import matplotlib.pyplot as plt\n",
        "import numpy as np\n",
        "\n",
        "def plt_dynamic(x, vy, ty, ax, colors=['b']):\n",
        "    ax.plot(x, vy, 'b', label=\"Validation Loss\")\n",
        "    ax.plot(x, ty, 'r', label=\"Train Loss\")\n",
        "    plt.legend()\n",
        "    plt.grid()\n",
        "    fig.canvas.draw()"
      ],
      "execution_count": 0,
      "outputs": []
    },
    {
      "cell_type": "code",
      "metadata": {
        "colab_type": "code",
        "id": "fXb-ccqEqb8F",
        "outputId": "91cecb40-2982-45f8-bd84-b8dc6ce4c0ab",
        "colab": {
          "base_uri": "https://localhost:8080/",
          "height": 329
        }
      },
      "source": [
        "score = model.evaluate(X_test, y_test, verbose=0) \n",
        "print('Test score:', score[0]) \n",
        "print('Test accuracy:', score[1])\n",
        "\n",
        "fig,ax = plt.subplots(1,1)\n",
        "ax.set_title('Epoch vs Loss')\n",
        "ax.set_xlabel('epoch') ; ax.set_ylabel('Categorical Crossentropy Loss')\n",
        "\n",
        "# list of epoch numbers\n",
        "x = list(range(1,epochs+1))\n",
        "\n",
        "\n",
        "vy = history.history['val_loss']\n",
        "ty = history.history['loss']\n",
        "plt_dynamic(x, vy, ty, ax)"
      ],
      "execution_count": 0,
      "outputs": [
        {
          "output_type": "stream",
          "text": [
            "Test score: 0.03795005509173498\n",
            "Test accuracy: 0.9876\n"
          ],
          "name": "stdout"
        },
        {
          "output_type": "display_data",
          "data": {
            "image/png": "[encoded data removed]",
            "text/plain": [
              "<Figure size 432x288 with 1 Axes>"
            ]
          },
          "metadata": {
            "tags": []
          }
        }
      ]
    },
    {
      "cell_type": "markdown",
      "metadata": {
        "colab_type": "text",
        "id": "futZ0mKPqb8G"
      },
      "source": [
        "### WITHOUT BN"
      ]
    },
    {
      "cell_type": "code",
      "metadata": {
        "colab_type": "code",
        "id": "BfPI7y90qb8H",
        "outputId": "4eb7e54b-a95f-4280-981b-e9d95b10dd6e",
        "colab": {
          "base_uri": "https://localhost:8080/",
          "height": 790
        }
      },
      "source": [
        "model=Sequential()\n",
        "#Adding first layer\n",
        "model.add(Conv2D(64, kernel_size=(5, 5),activation='sigmoid',input_shape=input_shape))\n",
        "model.add(MaxPooling2D(pool_size=(1, 1)))\n",
        "\n",
        "#Adding Second Layer\n",
        "model.add(Conv2D(64,kernel_size=(3,3),activation='sigmoid'))\n",
        "model.add(MaxPooling2D(pool_size=(2,2)))\n",
        "\n",
        "#Adding Third Layer\n",
        "model.add(Conv2D(32,kernel_size=(3,3),activation='sigmoid'))\n",
        "model.add(Dropout(0.5))\n",
        "model.add(MaxPooling2D(pool_size=(1,1)))\n",
        "\n",
        "#Fourth layer\n",
        "model.add(Conv2D(32, kernel_size=(3, 3), activation='sigmoid'))\n",
        "model.add(Dropout(0.25))\n",
        "model.add(MaxPooling2D(pool_size=(1,1)))\n",
        "\n",
        "#Fifth layer\n",
        "model.add(Conv2D(16, kernel_size=(2, 2), activation='sigmoid'))\n",
        "model.add(MaxPooling2D(pool_size=(1,1)))\n",
        "\n",
        "#Sixth Layer\n",
        "model.add(Conv2D(16,kernel_size=(2,2),activation='sigmoid'))\n",
        "model.add(MaxPooling2D(pool_size=(1,1)))\n",
        "\n",
        "\n",
        "\n",
        "#Fully Connected layer\n",
        "#Flattening\n",
        "model.add(Flatten())\n",
        "model.add(Dense(128))\n",
        "model.add(Activation('sigmoid'))\n",
        "model.add(Dropout(0.5))\n",
        "\n",
        "#Softmax\n",
        "model.add(Dense(num_classes, activation='softmax'))\n",
        "model.summary()"
      ],
      "execution_count": 0,
      "outputs": [
        {
          "output_type": "stream",
          "text": [
            "Model: \"sequential_23\"\n",
            "_________________________________________________________________\n",
            "Layer (type)                 Output Shape              Param #   \n",
            "=================================================================\n",
            "conv2d_91 (Conv2D)           (None, 24, 24, 64)        1664      \n",
            "_________________________________________________________________\n",
            "max_pooling2d_91 (MaxPooling (None, 24, 24, 64)        0         \n",
            "_________________________________________________________________\n",
            "conv2d_92 (Conv2D)           (None, 22, 22, 64)        36928     \n",
            "_________________________________________________________________\n",
            "max_pooling2d_92 (MaxPooling (None, 11, 11, 64)        0         \n",
            "_________________________________________________________________\n",
            "conv2d_93 (Conv2D)           (None, 9, 9, 32)          18464     \n",
            "_________________________________________________________________\n",
            "dropout_31 (Dropout)         (None, 9, 9, 32)          0         \n",
            "_________________________________________________________________\n",
            "max_pooling2d_93 (MaxPooling (None, 9, 9, 32)          0         \n",
            "_________________________________________________________________\n",
            "conv2d_94 (Conv2D)           (None, 7, 7, 32)          9248      \n",
            "_________________________________________________________________\n",
            "dropout_32 (Dropout)         (None, 7, 7, 32)          0         \n",
            "_________________________________________________________________\n",
            "max_pooling2d_94 (MaxPooling (None, 7, 7, 32)          0         \n",
            "_________________________________________________________________\n",
            "conv2d_95 (Conv2D)           (None, 6, 6, 16)          2064      \n",
            "_________________________________________________________________\n",
            "max_pooling2d_95 (MaxPooling (None, 6, 6, 16)          0         \n",
            "_________________________________________________________________\n",
            "conv2d_96 (Conv2D)           (None, 5, 5, 16)          1040      \n",
            "_________________________________________________________________\n",
            "max_pooling2d_96 (MaxPooling (None, 5, 5, 16)          0         \n",
            "_________________________________________________________________\n",
            "flatten_23 (Flatten)         (None, 400)               0         \n",
            "_________________________________________________________________\n",
            "dense_45 (Dense)             (None, 128)               51328     \n",
            "_________________________________________________________________\n",
            "activation_23 (Activation)   (None, 128)               0         \n",
            "_________________________________________________________________\n",
            "dropout_33 (Dropout)         (None, 128)               0         \n",
            "_________________________________________________________________\n",
            "dense_46 (Dense)             (None, 10)                1290      \n",
            "=================================================================\n",
            "Total params: 122,026\n",
            "Trainable params: 122,026\n",
            "Non-trainable params: 0\n",
            "_________________________________________________________________\n"
          ],
          "name": "stdout"
        }
      ]
    },
    {
      "cell_type": "code",
      "metadata": {
        "colab_type": "code",
        "id": "R70WTeIDqb8I",
        "outputId": "4f5ae7e8-6235-49af-c58a-04890a7f3d02",
        "colab": {
          "base_uri": "https://localhost:8080/",
          "height": 457
        }
      },
      "source": [
        "#Compiling with Cross-entropy-loss and Adam Optimizer taking Accuracy as a metric\n",
        "from keras.optimizers import Adam\n",
        "model.compile(loss='categorical_crossentropy', optimizer=Adam(), metrics=['accuracy'])\n",
        "history=model.fit(X_train, y_train,batch_size=batch_size,epochs=epochs,verbose=1,validation_data=(X_test, y_test))"
      ],
      "execution_count": 0,
      "outputs": [
        {
          "output_type": "stream",
          "text": [
            "Train on 60000 samples, validate on 10000 samples\n",
            "Epoch 1/12\n",
            "60000/60000 [==============================] - 11s 176us/step - loss: 2.3127 - acc: 0.1093 - val_loss: 2.3013 - val_acc: 0.1135\n",
            "Epoch 2/12\n",
            "60000/60000 [==============================] - 6s 102us/step - loss: 2.3015 - acc: 0.1122 - val_loss: 2.3011 - val_acc: 0.1135\n",
            "Epoch 3/12\n",
            "60000/60000 [==============================] - 6s 102us/step - loss: 2.3013 - acc: 0.1124 - val_loss: 2.3011 - val_acc: 0.1135\n",
            "Epoch 4/12\n",
            "60000/60000 [==============================] - 6s 103us/step - loss: 2.3013 - acc: 0.1123 - val_loss: 2.3011 - val_acc: 0.1135\n",
            "Epoch 5/12\n",
            "60000/60000 [==============================] - 6s 103us/step - loss: 2.3013 - acc: 0.1124 - val_loss: 2.3010 - val_acc: 0.1135\n",
            "Epoch 6/12\n",
            "60000/60000 [==============================] - 6s 102us/step - loss: 2.3013 - acc: 0.1124 - val_loss: 2.3010 - val_acc: 0.1135\n",
            "Epoch 7/12\n",
            "60000/60000 [==============================] - 6s 104us/step - loss: 2.3013 - acc: 0.1124 - val_loss: 2.3011 - val_acc: 0.1135\n",
            "Epoch 8/12\n",
            "60000/60000 [==============================] - 6s 103us/step - loss: 2.3013 - acc: 0.1124 - val_loss: 2.3011 - val_acc: 0.1135\n",
            "Epoch 9/12\n",
            "60000/60000 [==============================] - 6s 103us/step - loss: 2.3013 - acc: 0.1124 - val_loss: 2.3011 - val_acc: 0.1135\n",
            "Epoch 10/12\n",
            "60000/60000 [==============================] - 6s 102us/step - loss: 2.3013 - acc: 0.1124 - val_loss: 2.3010 - val_acc: 0.1135\n",
            "Epoch 11/12\n",
            "60000/60000 [==============================] - 6s 102us/step - loss: 2.3012 - acc: 0.1124 - val_loss: 2.3010 - val_acc: 0.1135\n",
            "Epoch 12/12\n",
            "60000/60000 [==============================] - 6s 103us/step - loss: 2.3013 - acc: 0.1124 - val_loss: 2.3010 - val_acc: 0.1135\n"
          ],
          "name": "stdout"
        }
      ]
    },
    {
      "cell_type": "code",
      "metadata": {
        "colab_type": "code",
        "id": "iU8WELo5qb8J",
        "colab": {}
      },
      "source": [
        "import matplotlib.pyplot as plt\n",
        "import numpy as np\n",
        "\n",
        "def plt_dynamic(x, vy, ty, ax, colors=['b']):\n",
        "    ax.plot(x, vy, 'b', label=\"Validation Loss\")\n",
        "    ax.plot(x, ty, 'r', label=\"Train Loss\")\n",
        "    plt.legend()\n",
        "    plt.grid()\n",
        "    fig.canvas.draw()"
      ],
      "execution_count": 0,
      "outputs": []
    },
    {
      "cell_type": "code",
      "metadata": {
        "colab_type": "code",
        "id": "axKTrYtdqb8K",
        "outputId": "97168d71-6115-48f4-b57a-42204ba2f4bd",
        "colab": {
          "base_uri": "https://localhost:8080/",
          "height": 329
        }
      },
      "source": [
        "score = model.evaluate(X_test, y_test, verbose=0) \n",
        "print('Test score:', score[0]) \n",
        "print('Test accuracy:', score[1])\n",
        "\n",
        "fig,ax = plt.subplots(1,1)\n",
        "ax.set_title('Epoch vs Loss')\n",
        "ax.set_xlabel('epoch') ; ax.set_ylabel('Categorical Crossentropy Loss')\n",
        "\n",
        "# list of epoch numbers\n",
        "x = list(range(1,epochs+1))\n",
        "\n",
        "\n",
        "vy = history.history['val_loss']\n",
        "ty = history.history['loss']\n",
        "plt_dynamic(x, vy, ty, ax)"
      ],
      "execution_count": 0,
      "outputs": [
        {
          "output_type": "stream",
          "text": [
            "Test score: 0.03929063466354273\n",
            "Test accuracy: 0.9873\n"
          ],
          "name": "stdout"
        },
        {
          "output_type": "display_data",
          "data": {
            "image/png": "[encoded data removed]",
            "text/plain": [
              "<Figure size 432x288 with 1 Axes>"
            ]
          },
          "metadata": {
            "tags": []
          }
        }
      ]
    },
    {
      "cell_type": "markdown",
      "metadata": {
        "colab_type": "text",
        "id": "Ju3ITy34qb8L"
      },
      "source": [
        "### WITHOUT DROPOUT"
      ]
    },
    {
      "cell_type": "code",
      "metadata": {
        "colab_type": "code",
        "id": "y9FKnQjwqb8L",
        "outputId": "661dd60e-4c25-4c56-d956-5ed89e7af326",
        "colab": {
          "base_uri": "https://localhost:8080/",
          "height": 790
        }
      },
      "source": [
        "model=Sequential()\n",
        "#Adding first layer\n",
        "model.add(Conv2D(64, kernel_size=(5, 5),activation='sigmoid',input_shape=input_shape))\n",
        "model.add(MaxPooling2D(pool_size=(1, 1)))\n",
        "\n",
        "#Adding Second Layer\n",
        "model.add(Conv2D(64,kernel_size=(3,3),activation='sigmoid'))\n",
        "model.add(BatchNormalization(axis=1))\n",
        "model.add(MaxPooling2D(pool_size=(2,2)))\n",
        "\n",
        "#Adding Third Layer\n",
        "model.add(Conv2D(32,kernel_size=(3,3),activation='sigmoid'))\n",
        "model.add(MaxPooling2D(pool_size=(1,1)))\n",
        "\n",
        "#Fourth layer\n",
        "model.add(Conv2D(32, kernel_size=(3, 3), activation='sigmoid'))\n",
        "model.add(MaxPooling2D(pool_size=(1,1)))\n",
        "\n",
        "#Fifth layer\n",
        "model.add(Conv2D(16, kernel_size=(2, 2), activation='sigmoid'))\n",
        "model.add(BatchNormalization(axis=1))\n",
        "model.add(MaxPooling2D(pool_size=(1,1)))\n",
        "\n",
        "#Sixth Layer\n",
        "model.add(Conv2D(16,kernel_size=(2,2),activation='sigmoid'))\n",
        "model.add(BatchNormalization(axis=1))\n",
        "model.add(MaxPooling2D(pool_size=(1,1)))\n",
        "\n",
        "\n",
        "\n",
        "#Fully Connected layer\n",
        "#Flattening\n",
        "model.add(Flatten())\n",
        "model.add(Dense(128))\n",
        "model.add(Activation('sigmoid'))\n",
        "\n",
        "#Softmax\n",
        "model.add(Dense(num_classes, activation='softmax'))\n",
        "model.summary()"
      ],
      "execution_count": 0,
      "outputs": [
        {
          "output_type": "stream",
          "text": [
            "Model: \"sequential_24\"\n",
            "_________________________________________________________________\n",
            "Layer (type)                 Output Shape              Param #   \n",
            "=================================================================\n",
            "conv2d_97 (Conv2D)           (None, 24, 24, 64)        1664      \n",
            "_________________________________________________________________\n",
            "max_pooling2d_97 (MaxPooling (None, 24, 24, 64)        0         \n",
            "_________________________________________________________________\n",
            "conv2d_98 (Conv2D)           (None, 22, 22, 64)        36928     \n",
            "_________________________________________________________________\n",
            "batch_normalization_25 (Batc (None, 22, 22, 64)        88        \n",
            "_________________________________________________________________\n",
            "max_pooling2d_98 (MaxPooling (None, 11, 11, 64)        0         \n",
            "_________________________________________________________________\n",
            "conv2d_99 (Conv2D)           (None, 9, 9, 32)          18464     \n",
            "_________________________________________________________________\n",
            "max_pooling2d_99 (MaxPooling (None, 9, 9, 32)          0         \n",
            "_________________________________________________________________\n",
            "conv2d_100 (Conv2D)          (None, 7, 7, 32)          9248      \n",
            "_________________________________________________________________\n",
            "max_pooling2d_100 (MaxPoolin (None, 7, 7, 32)          0         \n",
            "_________________________________________________________________\n",
            "conv2d_101 (Conv2D)          (None, 6, 6, 16)          2064      \n",
            "_________________________________________________________________\n",
            "batch_normalization_26 (Batc (None, 6, 6, 16)          24        \n",
            "_________________________________________________________________\n",
            "max_pooling2d_101 (MaxPoolin (None, 6, 6, 16)          0         \n",
            "_________________________________________________________________\n",
            "conv2d_102 (Conv2D)          (None, 5, 5, 16)          1040      \n",
            "_________________________________________________________________\n",
            "batch_normalization_27 (Batc (None, 5, 5, 16)          20        \n",
            "_________________________________________________________________\n",
            "max_pooling2d_102 (MaxPoolin (None, 5, 5, 16)          0         \n",
            "_________________________________________________________________\n",
            "flatten_24 (Flatten)         (None, 400)               0         \n",
            "_________________________________________________________________\n",
            "dense_47 (Dense)             (None, 128)               51328     \n",
            "_________________________________________________________________\n",
            "activation_24 (Activation)   (None, 128)               0         \n",
            "_________________________________________________________________\n",
            "dense_48 (Dense)             (None, 10)                1290      \n",
            "=================================================================\n",
            "Total params: 122,158\n",
            "Trainable params: 122,092\n",
            "Non-trainable params: 66\n",
            "_________________________________________________________________\n"
          ],
          "name": "stdout"
        }
      ]
    },
    {
      "cell_type": "code",
      "metadata": {
        "colab_type": "code",
        "id": "3-fjZZfMqb8M",
        "outputId": "bc4d1846-e2cd-4a50-ba15-76efea177885",
        "colab": {
          "base_uri": "https://localhost:8080/",
          "height": 457
        }
      },
      "source": [
        "#Compiling with Cross-entropy-loss and Adam Optimizer taking Accuracy as a metric\n",
        "from keras.optimizers import Adam\n",
        "model.compile(loss='categorical_crossentropy', optimizer=Adam(), metrics=['accuracy'])\n",
        "history=model.fit(X_train, y_train,batch_size=batch_size,epochs=epochs,verbose=1,validation_data=(X_test, y_test))"
      ],
      "execution_count": 0,
      "outputs": [
        {
          "output_type": "stream",
          "text": [
            "Train on 60000 samples, validate on 10000 samples\n",
            "Epoch 1/12\n",
            "60000/60000 [==============================] - 13s 221us/step - loss: 0.9769 - acc: 0.6535 - val_loss: 0.1304 - val_acc: 0.9664\n",
            "Epoch 2/12\n",
            "60000/60000 [==============================] - 7s 125us/step - loss: 0.1054 - acc: 0.9695 - val_loss: 0.1018 - val_acc: 0.9700\n",
            "Epoch 3/12\n",
            "60000/60000 [==============================] - 8s 125us/step - loss: 0.0687 - acc: 0.9803 - val_loss: 0.0758 - val_acc: 0.9770\n",
            "Epoch 4/12\n",
            "60000/60000 [==============================] - 8s 126us/step - loss: 0.0519 - acc: 0.9853 - val_loss: 0.0518 - val_acc: 0.9839\n",
            "Epoch 5/12\n",
            "60000/60000 [==============================] - 8s 126us/step - loss: 0.0431 - acc: 0.9874 - val_loss: 0.0447 - val_acc: 0.9855\n",
            "Epoch 6/12\n",
            "60000/60000 [==============================] - 8s 126us/step - loss: 0.0363 - acc: 0.9895 - val_loss: 0.0366 - val_acc: 0.9889\n",
            "Epoch 7/12\n",
            "60000/60000 [==============================] - 8s 125us/step - loss: 0.0310 - acc: 0.9906 - val_loss: 0.0520 - val_acc: 0.9837\n",
            "Epoch 8/12\n",
            "60000/60000 [==============================] - 7s 125us/step - loss: 0.0289 - acc: 0.9910 - val_loss: 0.0363 - val_acc: 0.9881\n",
            "Epoch 9/12\n",
            "60000/60000 [==============================] - 8s 126us/step - loss: 0.0242 - acc: 0.9927 - val_loss: 0.0392 - val_acc: 0.9881\n",
            "Epoch 10/12\n",
            "60000/60000 [==============================] - 8s 125us/step - loss: 0.0214 - acc: 0.9935 - val_loss: 0.0295 - val_acc: 0.9913\n",
            "Epoch 11/12\n",
            "60000/60000 [==============================] - 8s 126us/step - loss: 0.0188 - acc: 0.9944 - val_loss: 0.0320 - val_acc: 0.9900\n",
            "Epoch 12/12\n",
            "60000/60000 [==============================] - 8s 125us/step - loss: 0.0169 - acc: 0.9949 - val_loss: 0.0393 - val_acc: 0.9873\n"
          ],
          "name": "stdout"
        }
      ]
    },
    {
      "cell_type": "code",
      "metadata": {
        "colab_type": "code",
        "id": "A7phV_cXqb8N",
        "colab": {}
      },
      "source": [
        "import matplotlib.pyplot as plt\n",
        "import numpy as np\n",
        "\n",
        "def plt_dynamic(x, vy, ty, ax, colors=['b']):\n",
        "    ax.plot(x, vy, 'b', label=\"Validation Loss\")\n",
        "    ax.plot(x, ty, 'r', label=\"Train Loss\")\n",
        "    plt.legend()\n",
        "    plt.grid()\n",
        "    fig.canvas.draw()"
      ],
      "execution_count": 0,
      "outputs": []
    },
    {
      "cell_type": "code",
      "metadata": {
        "colab_type": "code",
        "id": "ii9Igv6xqb8P",
        "outputId": "e758e436-5cc9-4d4b-bb0c-d8cf4f1477ac",
        "colab": {
          "base_uri": "https://localhost:8080/",
          "height": 329
        }
      },
      "source": [
        "score = model.evaluate(X_test, y_test, verbose=0) \n",
        "print('Test score:', score[0]) \n",
        "print('Test accuracy:', score[1])\n",
        "\n",
        "fig,ax = plt.subplots(1,1)\n",
        "ax.set_title('Epoch vs Loss')\n",
        "ax.set_xlabel('epoch') ; ax.set_ylabel('Categorical Crossentropy Loss')\n",
        "\n",
        "# list of epoch numbers\n",
        "x = list(range(1,epochs+1))\n",
        "\n",
        "\n",
        "vy = history.history['val_loss']\n",
        "ty = history.history['loss']\n",
        "plt_dynamic(x, vy, ty, ax)"
      ],
      "execution_count": 0,
      "outputs": [
        {
          "output_type": "stream",
          "text": [
            "Test score: 0.03929063466354273\n",
            "Test accuracy: 0.9873\n"
          ],
          "name": "stdout"
        },
        {
          "output_type": "display_data",
          "data": {
            "image/png": "[encoded data removed]",
            "text/plain": [
              "<Figure size 432x288 with 1 Axes>"
            ]
          },
          "metadata": {
            "tags": []
          }
        }
      ]
    },
    {
      "cell_type": "code",
      "metadata": {
        "colab_type": "code",
        "id": "ZGE-nD-tXfxl",
        "outputId": "b639558b-87ba-4222-8b60-c05daabc8145",
        "colab": {
          "base_uri": "https://localhost:8080/",
          "height": 386
        }
      },
      "source": [
        "from prettytable import PrettyTable    \n",
        "x = PrettyTable()\n",
        "x.field_names = [\"No of layer\",\"With/Without Dropout/BN\",\"activation function\", \"Accuracy %\"]\n",
        "\n",
        "\n",
        "x.add_row([\"3\", \"BN+DROPOUT\"   , \"RELU\"     ,\"98.6\"])\n",
        "x.add_row([\"3\", \"DROPOUT\"   , \"RELU\"     ,\"98.47\"])\n",
        "x.add_row([\"3\", \"BN\"   , \"RELU\"     ,\"98.48\"])\n",
        "\n",
        "x.add_row([\"3\", \"BN+DROPOUT\"   , \"SIGMOID\"     ,\"98.53\"])\n",
        "x.add_row([\"3\", \"DROPOUT\"   , \"SIGMOID\"     ,\"97.79\"])\n",
        "x.add_row([\"3\", \"BN\"   , \"SIGMOID\"     ,\"97.88\"])\n",
        "\n",
        "\n",
        "\n",
        "x.add_row([\"5\", \"BN+DROPOUT\"   , \"RELU\"     ,\"98.52\"])\n",
        "x.add_row([\"5\", \"DROPOUT\"   , \"RELU\"     ,\"98.32\"])\n",
        "x.add_row([\"5\", \"BN\"   , \"RELU\"     ,\"98.67\"])\n",
        "\n",
        "x.add_row([\"5\", \"BN+DROPOUT\"   , \"SIGMOID\"     ,\"98.73\"])\n",
        "x.add_row([\"5\", \"DROPOUT\"   , \"SIGMOID\"     ,\"97.73\"])\n",
        "x.add_row([\"5\", \"BN\"   , \"SIGMOID\"     ,\"97.79\"])\n",
        "\n",
        "\n",
        "\n",
        "x.add_row([\"6\", \"BN+DROPOUT\"   , \"RELU\"     ,\"99.28\"])\n",
        "x.add_row([\"6\", \"DROPOUT\"   , \"RELU\"     ,\"99.3\"])\n",
        "x.add_row([\"6\", \"BN\"   , \"RELU\"     ,\"98.88\"])\n",
        "\n",
        "x.add_row([\"6\", \"BN+DROPOUT\"   , \"SIGMOID\"     ,\"98.76\"])\n",
        "x.add_row([\"6\", \"DROPOUT\"   , \"SIGMOID\"     ,\"98.73\"])\n",
        "x.add_row([\"6\", \"BN\"   , \"SIGMOID\"     ,\"98.73\"])\n",
        "\n",
        "\n",
        "\n",
        "\n",
        "print(x)"
      ],
      "execution_count": 0,
      "outputs": [
        {
          "output_type": "stream",
          "text": [
            "+-------------+-------------------------+---------------------+------------+\n",
            "| No of layer | With/Without Dropout/BN | activation function | Accuracy % |\n",
            "+-------------+-------------------------+---------------------+------------+\n",
            "|      3      |        BN+DROPOUT       |         RELU        |    98.6    |\n",
            "|      3      |         DROPOUT         |         RELU        |   98.47    |\n",
            "|      3      |            BN           |         RELU        |   98.48    |\n",
            "|      3      |        BN+DROPOUT       |       SIGMOID       |   98.53    |\n",
            "|      3      |         DROPOUT         |       SIGMOID       |   97.79    |\n",
            "|      3      |            BN           |       SIGMOID       |   97.88    |\n",
            "|      5      |        BN+DROPOUT       |         RELU        |   98.52    |\n",
            "|      5      |         DROPOUT         |         RELU        |   98.32    |\n",
            "|      5      |            BN           |         RELU        |   98.67    |\n",
            "|      5      |        BN+DROPOUT       |       SIGMOID       |   98.73    |\n",
            "|      5      |         DROPOUT         |       SIGMOID       |   97.73    |\n",
            "|      5      |            BN           |       SIGMOID       |   97.79    |\n",
            "|      6      |        BN+DROPOUT       |         RELU        |   99.28    |\n",
            "|      6      |         DROPOUT         |         RELU        |    99.3    |\n",
            "|      6      |            BN           |         RELU        |   98.88    |\n",
            "|      6      |        BN+DROPOUT       |       SIGMOID       |   98.76    |\n",
            "|      6      |         DROPOUT         |       SIGMOID       |   98.73    |\n",
            "|      6      |            BN           |       SIGMOID       |   98.73    |\n",
            "+-------------+-------------------------+---------------------+------------+\n"
          ],
          "name": "stdout"
        }
      ]
    },
    {
      "cell_type": "markdown",
      "metadata": {
        "colab_type": "text",
        "id": "fZQRVQYEnP19"
      },
      "source": [
        "FROM ABOVE WE CAN CONCLUDE THAT RELU ACTIVATION FUNCTION  WORKS BETTER THAN SIGMOID."
      ]
    },
    {
      "cell_type": "markdown",
      "metadata": {
        "colab_type": "text",
        "id": "EjACmgsh8xW4"
      },
      "source": [
        "IN THIS ASSIGNMENT WE HAVE USED DIFFERENT ACTIVATION FUNCTION,NO OF LAYERS TO COMAPRE OUR PERFORMANCE."
      ]
    },
    {
      "cell_type": "markdown",
      "metadata": {
        "colab_type": "text",
        "id": "i1M6K4bQ9F20"
      },
      "source": [
        "Batch Normalization works more better than dropout for Relu Activation Function."
      ]
    },
    {
      "cell_type": "markdown",
      "metadata": {
        "colab_type": "text",
        "id": "ap4pCd3W9N2Q"
      },
      "source": [
        "AS LAYERS INCREASE PERFORMANCE ALSO INCREASES."
      ]
    },
    {
      "cell_type": "code",
      "metadata": {
        "colab_type": "code",
        "id": "WHL-eitx9Htm",
        "colab": {}
      },
      "source": [
        ""
      ],
      "execution_count": 0,
      "outputs": []
    }
  ]
}